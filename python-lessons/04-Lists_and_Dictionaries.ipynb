{
 "cells": [
  {
   "cell_type": "markdown",
   "metadata": {},
   "source": [
    "# Data Structures (Lists and Dictionaries)\n",
    "\n",
    "\n",
    "Based on Lecture Materials presented at the African Institute for Mathematical Sciences, South Africa (AIMS-ZA) by Yaé Ulrich Gaba and Jeff Sanders in January 2016 and Mohau Mateyisi in January 2015.\n",
    "\n",
    "**Instructor: [Yaé Ulrich Gaba](https://github.com/gabayae), [Institut de Mathématiques et de Sciences Physiques](http://imsp-benin.com/home/)**"
   ]
  },
  {
   "cell_type": "markdown",
   "metadata": {},
   "source": [
    "Python has a few built-in data structures. If you are wondering what a data structure is, it is nothing but a way to store\n",
    "data and having particular methods to retrieve or manipulate it.  We already encountered lists before; now we will go\n",
    "in some depth."
   ]
  },
  {
   "cell_type": "markdown",
   "metadata": {},
   "source": [
    "##  Lists\n",
    "\n",
    "List refers to a collection of data which are normally related. Instead of\n",
    "storing these data as separate variables, we can store them as a list. For\n",
    "instance, suppose our program needs to store the age of 5 users. Instead\n",
    "of storing them as user1Age, user2Age, user3Age, user4Age and\n",
    "user5Age, it makes more sense to store them as a list.\n",
    "\n",
    "\n",
    "To declare a list, you write listName = [initial values]. Note\n",
    "that we use square brackets [ ] when declaring a list. Multiple values are\n",
    "separated by a comma. We can also declare a list without assigning any initial values to it. We\n",
    "simply write listName = [].\n",
    "\n",
    "Examples:"
   ]
  },
  {
   "cell_type": "code",
   "execution_count": null,
   "metadata": {},
   "outputs": [],
   "source": [
    "userAge = [21, 22, 23, 24, 25]\n",
    "\n",
    "userName = []\n"
   ]
  },
  {
   "cell_type": "markdown",
   "metadata": {},
   "source": [
    "At first we created a list ``userAge``.  Then we would like to add\n",
    "another age, say *28* at the end of the list we call the ``userAge.append(28)`` method. "
   ]
  },
  {
   "cell_type": "code",
   "execution_count": null,
   "metadata": {},
   "outputs": [],
   "source": [
    "userAge.append(28)"
   ]
  },
  {
   "cell_type": "code",
   "execution_count": null,
   "metadata": {},
   "outputs": [],
   "source": [
    "#If you now check the content of userAge, you see\n",
    "userAge\n",
    "\n",
    "#You can see that 28 is added at the end of the list"
   ]
  },
  {
   "cell_type": "markdown",
   "metadata": {},
   "source": [
    "Individual values in the list are accessible by their indexes, and indexes\n",
    "always start from ZERO, not 1. This is a common practice in almost all\n",
    "programming languages, such as C and Java. Hence the first value has\n",
    "an index of 0, the next has an index of 1 and so forth. For instance,\n",
    "``userAge[0] = 21``, ``userAge[1] = 22``."
   ]
  },
  {
   "cell_type": "code",
   "execution_count": null,
   "metadata": {},
   "outputs": [],
   "source": [
    "userAge[0]"
   ]
  },
  {
   "cell_type": "code",
   "execution_count": null,
   "metadata": {},
   "outputs": [],
   "source": [
    "userAge[1]"
   ]
  },
  {
   "cell_type": "markdown",
   "metadata": {},
   "source": [
    "Alternatively, you can access the values of a list from the back. The last\n",
    "item in the list has an index of -1, the second last has an index of -2 and\n",
    "so forth. Hence, ``userAge[-1] = 28``, ``userAge[-2] = 25``."
   ]
  },
  {
   "cell_type": "code",
   "execution_count": null,
   "metadata": {},
   "outputs": [],
   "source": [
    "userAge[-1]"
   ]
  },
  {
   "cell_type": "code",
   "execution_count": null,
   "metadata": {},
   "outputs": [],
   "source": [
    "userAge[-2]"
   ]
  },
  {
   "cell_type": "markdown",
   "metadata": {},
   "source": [
    "Sometimes it is necessary to insert data at any place within the list, for that we have\n",
    "``insert()`` method."
   ]
  },
  {
   "cell_type": "code",
   "execution_count": null,
   "metadata": {},
   "outputs": [],
   "source": [
    "userAge.insert(0, 30) # 1 added at the 0th position of the list"
   ]
  },
  {
   "cell_type": "markdown",
   "metadata": {},
   "source": [
    "### count(entry)\n",
    "will return you the number of times ``entry``\n",
    "is in the list. Here we are going to check how many times ``28``\n",
    "is there in the list."
   ]
  },
  {
   "cell_type": "markdown",
   "metadata": {},
   "source": [
    "You can also delete an element at any particular position of the list using the ``del`` keyword."
   ]
  },
  {
   "cell_type": "code",
   "execution_count": null,
   "metadata": {},
   "outputs": [],
   "source": [
    "del userAge[-1]"
   ]
  },
  {
   "cell_type": "markdown",
   "metadata": {},
   "source": [
    "To modify items in a list, we write ``listName[index of item to be modified] = new value``."
   ]
  },
  {
   "cell_type": "markdown",
   "metadata": {},
   "source": [
    "For instance, if you want to modify the\n",
    "second item, you write ``userAge[1] = 35``."
   ]
  },
  {
   "cell_type": "code",
   "execution_count": null,
   "metadata": {},
   "outputs": [],
   "source": [
    "userAge[1] = 5."
   ]
  },
  {
   "cell_type": "markdown",
   "metadata": {},
   "source": [
    "You can assign a list, or part of it, to a variable.  If you write userAge3 = userAge[2:4], you are assigning items with\n",
    "index `2` to index `4-1` from the list userAge to the list userAge3. \n",
    "Check "
   ]
  },
  {
   "cell_type": "code",
   "execution_count": null,
   "metadata": {},
   "outputs": [],
   "source": [
    "userAge3 = userAge[2:4]\n",
    "userAge3 "
   ]
  },
  {
   "cell_type": "markdown",
   "metadata": {},
   "source": [
    "The notation 2:4 is known as a slice. Whenever we use the slice notation\n",
    "in Python, the item at the start index is always included, but the item at\n",
    "the end is always excluded. Hence the notation 2:4 refers to items from\n",
    "index 2 to index 4-1 (i.e. index 3),"
   ]
  },
  {
   "cell_type": "markdown",
   "metadata": {},
   "source": [
    "The slice notation includes a third number known as the stepper. If we\n",
    "write userAge4 = userAge[1:5:2], we will get a sub list consisting\n",
    "of every second number from index 1 to index 5-1 because the stepper is\n",
    "2."
   ]
  },
  {
   "cell_type": "code",
   "execution_count": null,
   "metadata": {},
   "outputs": [],
   "source": [
    "userAge4 = userAge[1:5:2]\n",
    "userAge4 "
   ]
  },
  {
   "cell_type": "markdown",
   "metadata": {},
   "source": [
    "To fully appreciate the workings of a list, try running the following\n",
    "program."
   ]
  },
  {
   "cell_type": "code",
   "execution_count": null,
   "metadata": {},
   "outputs": [],
   "source": [
    "#declaring the list, list elements can be of different data types \n",
    "myList = [1, 2, 3, 4, 5, \"Hello\"]\n",
    "\n",
    "\n",
    "#print the entire list.\n",
    "print(myList)\n",
    "#You’ll get [1, 2, 3, 4, 5, “Hello”]\n",
    "\n",
    "\n",
    "#print the third item (recall: Index starts from zero).\n",
    "print(myList[2])\n",
    "#You’ll get 3\n",
    "\n",
    "\n",
    "#print the last item.\n",
    "print(myList[-1])\n",
    "#You’ll get “Hello”\n",
    "\n",
    "\n",
    "#assign myList (from index 1 to 4) to myList2 and print myList2\n",
    "myList2 = myList[1:5]\n",
    "print (myList2)\n",
    "#You’ll get [2, 3, 4, 5]\n",
    "\n",
    "\n",
    "\n",
    "#modify the second item in myList and print the updated list \n",
    "myList[1] = 20\n",
    "print(myList)\n",
    "#You’ll get [1, 20, 3, 4, 5, 'Hello']\n",
    "\n",
    "\n",
    "\n",
    "#append a new item to myList and print the updated list \n",
    "myList.append(\"How are you\")\n",
    "print(myList)\n",
    "#You’ll get [1, 20, 3, 4, 5, 'Hello', 'How are you']\n",
    "\n",
    "#remove the sixth item from myList and print the updated list \n",
    "del myList[5]\n",
    "print(myList)\n",
    "#You’ll get [1, 20, 3, 4, 5, 'How are you']\n",
    "\n",
    "\n",
    "\n"
   ]
  },
  {
   "cell_type": "markdown",
   "metadata": {},
   "source": [
    "### Length of Lists\n",
    "\n",
    "\n",
    "\n",
    "Sometimes you want to know how many items are in a list. Use the ``len()`` function."
   ]
  },
  {
   "cell_type": "code",
   "execution_count": null,
   "metadata": {},
   "outputs": [],
   "source": [
    "len(myList)"
   ]
  },
  {
   "cell_type": "markdown",
   "metadata": {},
   "source": [
    "### Heterogeneous Data\n",
    "\n",
    "\n",
    "\n",
    "Lists can contain hetergeneous data."
   ]
  },
  {
   "cell_type": "code",
   "execution_count": null,
   "metadata": {},
   "outputs": [],
   "source": [
    "data = [\"experiment: current vs. voltage\", \n",
    "        \"run\", 47,\n",
    "        \"temperature\", 372.756, \n",
    "        \"current\", [-1.0, -0.5, 0.0, 0.5, 1.0], \n",
    "        \"voltage\", [-2.0, -1.0, 0.0, 1.0, 2.0],\n",
    "        ]"
   ]
  },
  {
   "cell_type": "code",
   "execution_count": null,
   "metadata": {},
   "outputs": [],
   "source": [
    "print(data)"
   ]
  },
  {
   "cell_type": "markdown",
   "metadata": {},
   "source": [
    "### List Comprehensions\n",
    "\n",
    "List comprehensions provide a concise way to create lists. Each list comprehension consists of an expression followed\n",
    "by a for clause, then zero or more for or if clauses. The result will be a list resulting from evaluating the expression in\n",
    "the context of the for and if clauses which follow it.\n",
    "\n",
    "For example if we want to make a list out of the square values of another list, then"
   ]
  },
  {
   "cell_type": "code",
   "execution_count": null,
   "metadata": {},
   "outputs": [],
   "source": [
    "a = [1, 2, 3]\n",
    "b= [x ** 2 for x in a]\n",
    "\n",
    "print(b)\n",
    "\n",
    "z = [x + 1 for x in [x ** 2 for x in a]]\n",
    "z\n"
   ]
  },
  {
   "cell_type": "markdown",
   "metadata": {},
   "source": [
    "## Dictionary\n",
    "\n",
    "Dictionary is a collection of related data PAIRS. For instance, if we want\n",
    "to store the username and age of 5 users, we can store them in a\n",
    "dictionary. Dictionaries are unordered set of ``key: value`` pairs where keys are **unique**. We declare dictionaries using ``{}`` braces. We\n",
    "use dictionaries to store data for any particular key and then retrieve them."
   ]
  },
  {
   "cell_type": "code",
   "execution_count": null,
   "metadata": {},
   "outputs": [],
   "source": [
    "data = {'kushal':'Fedora', 'kart_':'Debian', 'Jace':'Mac'}"
   ]
  },
  {
   "cell_type": "markdown",
   "metadata": {},
   "source": [
    "You cannot declare a dictionary like this\n",
    "\n",
    "                    myDictionary = {\"Peter\":38, \"John\":51, \"Peter\":13}.\n",
    "                    \n",
    "This is because \"Peter\" is used as the dictionary key twice."
   ]
  },
  {
   "cell_type": "markdown",
   "metadata": {},
   "source": [
    "You must remember that no **mutable** object can be a key, that means you can not use a **list** as a key.\n",
    "\n",
    "\n",
    "You can also declare a dictionary using the ``dict( )`` method. \n",
    "\n",
    "To declare a dictionary, you can write"
   ]
  },
  {
   "cell_type": "code",
   "execution_count": null,
   "metadata": {},
   "outputs": [],
   "source": [
    "userNameAndAge = {\"Peter\":38, \"John\":51, \"Alex\":13, \"Alvin\":\"Not Available\"}"
   ]
  },
  {
   "cell_type": "markdown",
   "metadata": {},
   "source": [
    "You can also do: "
   ]
  },
  {
   "cell_type": "code",
   "execution_count": null,
   "metadata": {},
   "outputs": [],
   "source": [
    "userNameAndAge = dict(Peter = 38, John = 51, Alex = 13, Alvin = \"Not Available\")"
   ]
  },
  {
   "cell_type": "markdown",
   "metadata": {},
   "source": [
    "Now, let's go back to our ``data`` dictionary.\n",
    "\n",
    "We can add more data to it by simply"
   ]
  },
  {
   "cell_type": "code",
   "execution_count": null,
   "metadata": {},
   "outputs": [],
   "source": [
    "data['parthan'] = 'Ubuntu'\n",
    "data"
   ]
  },
  {
   "cell_type": "markdown",
   "metadata": {},
   "source": [
    "To delete any particular *key:value* pair"
   ]
  },
  {
   "cell_type": "code",
   "execution_count": null,
   "metadata": {},
   "outputs": [],
   "source": [
    "del data['kushal']\n",
    "data"
   ]
  },
  {
   "cell_type": "markdown",
   "metadata": {},
   "source": [
    "To check if any *key* is there in the dictionary or not you can use ``in`` keyword."
   ]
  },
  {
   "cell_type": "code",
   "execution_count": null,
   "metadata": {},
   "outputs": [],
   "source": [
    "'Soumya' in data"
   ]
  },
  {
   "cell_type": "markdown",
   "metadata": {},
   "source": [
    "If you want to loop through a dict use *items()* method."
   ]
  },
  {
   "cell_type": "code",
   "execution_count": null,
   "metadata": {},
   "outputs": [],
   "source": [
    "data\n",
    "for x, y in data.items():\n",
    "    print(\"%s uses %s\" % (x, y))"
   ]
  },
  {
   "cell_type": "markdown",
   "metadata": {},
   "source": [
    "Many times it happens that we want to add more data to a value in a dictionary and if the key does not exists then we\n",
    "add some default value. You can do this efficiently using *dict.setdefault(key, default)*."
   ]
  },
  {
   "cell_type": "code",
   "execution_count": null,
   "metadata": {},
   "outputs": [],
   "source": [
    "data = {}\n",
    "data.setdefault('names', []).append('Ruby')\n",
    "data"
   ]
  },
  {
   "cell_type": "code",
   "execution_count": null,
   "metadata": {},
   "outputs": [],
   "source": [
    "data.setdefault('names', []).append('Python')\n",
    "data"
   ]
  },
  {
   "cell_type": "code",
   "execution_count": null,
   "metadata": {},
   "outputs": [],
   "source": [
    "data.setdefault('names', []).append('C')\n",
    "data"
   ]
  },
  {
   "cell_type": "code",
   "execution_count": null,
   "metadata": {},
   "outputs": [],
   "source": []
  },
  {
   "cell_type": "markdown",
   "metadata": {},
   "source": [
    "Dictionaries, like strings, lists, and all the rest, have built-in methods. Lets say you wanted all the keys from a particular dictionary."
   ]
  },
  {
   "cell_type": "code",
   "execution_count": null,
   "metadata": {},
   "outputs": [],
   "source": [
    "data.keys()"
   ]
  },
  {
   "cell_type": "code",
   "execution_count": null,
   "metadata": {},
   "outputs": [],
   "source": [
    "data.values()"
   ]
  },
  {
   "cell_type": "code",
   "execution_count": null,
   "metadata": {},
   "outputs": [],
   "source": []
  },
  {
   "cell_type": "markdown",
   "metadata": {},
   "source": [
    "Thes lines of codes summarizes all we have leant about dictionnaries.\n",
    "Run the following program to see all these in action."
   ]
  },
  {
   "cell_type": "code",
   "execution_count": 7,
   "metadata": {},
   "outputs": [
    {
     "name": "stdout",
     "output_type": "stream",
     "text": [
      "{'One': 1.35, 2.5: 'Two Point Five', 3: '', 7.9: 2}\n",
      "1.35\n",
      "2\n",
      "{'One': 1.35, 2.5: 'Two and a Half', 3: '', 7.9: 2}\n",
      "{'One': 1.35, 2.5: 'Two and a Half', 3: '', 7.9: 2, 'New item': 'I am new'}\n",
      "{2.5: 'Two and a Half', 3: '', 7.9: 2, 'New item': 'I am new'}\n"
     ]
    }
   ],
   "source": [
    "#declaring the dictionary, dictionary keys and data can be of different data types\n",
    "myDict = {\"One\":1.35, 2.5:\"Two Point Five\", 3:\"\"+\"\", 7.9:2}\n",
    "\n",
    "\n",
    "\n",
    "#print the entire dictionary\n",
    "print(myDict)\n",
    "#You’ll get {2.5: 'Two Point Five', 3: '+', 'One': 1.35, 7.9: 2}\n",
    "#Note that items in a dictionary are not stored in the same order as the way you declare them.\n",
    "\n",
    "\n",
    "#print the item with key = “One”.\n",
    "print(myDict[\"One\"])\n",
    "#You’ll get 1.35\n",
    "\n",
    "\n",
    "\n",
    "\n",
    "#print the item with key = 7.9.\n",
    "print(myDict[7.9])\n",
    "#You’ll get 2\n",
    "\n",
    "\n",
    "\n",
    "\n",
    "#modify the item with key = 2.5 and print the updated dictionary\n",
    "myDict[2.5] = \"Two and a Half\"\n",
    "print(myDict)\n",
    "#You’ll get {2.5: 'Two and a Half', 3: '+', 'One': 1.35, 7.9: 2}\n",
    "\n",
    "\n",
    "\n",
    "\n",
    "#add a new item and print the updated dictionary\n",
    "myDict[\"New item\"] = \"I am new\"\n",
    "print(myDict)\n",
    "#You’ll get {'New item': 'I am new', 2.5: 'Two and a Half', 3: '+', 'One': 1.35, 7.9: 2}\n",
    "\n",
    "\n",
    "\n",
    "#remove the item with key = “One” and print the updated dictionary\n",
    "del myDict[\"One\"]\n",
    "print(myDict)\n",
    "#You’ll get {'New item': 'I am new', 2.5: 'Two and a Half', 3: '+', 7.9: 2}"
   ]
  },
  {
   "cell_type": "code",
   "execution_count": null,
   "metadata": {},
   "outputs": [],
   "source": []
  },
  {
   "cell_type": "code",
   "execution_count": null,
   "metadata": {},
   "outputs": [],
   "source": []
  },
  {
   "cell_type": "markdown",
   "metadata": {},
   "source": [
    "## Exercise:\n",
    "> Write a function to take the name of a student as input, then ask marks for three subjects as **'Physics', 'Maths',\n",
    "'Philosophy'** and **'Python\"**. If the total marks for any student is less 120 then print ``Failed``, or else say ``Passed``."
   ]
  },
  {
   "cell_type": "code",
   "execution_count": null,
   "metadata": {},
   "outputs": [],
   "source": []
  }
 ],
 "metadata": {
  "kernelspec": {
   "display_name": "Python 3",
   "language": "python",
   "name": "python3"
  },
  "language_info": {
   "codemirror_mode": {
    "name": "ipython",
    "version": 3
   },
   "file_extension": ".py",
   "mimetype": "text/x-python",
   "name": "python",
   "nbconvert_exporter": "python",
   "pygments_lexer": "ipython3",
   "version": "3.7.3"
  }
 },
 "nbformat": 4,
 "nbformat_minor": 2
}
