{
 "cells": [
  {
   "cell_type": "markdown",
   "metadata": {},
   "source": [
    "# File handling\n",
    "\n",
    "\n",
    "Based on Lecture Materials presented at the African Institute for Mathematical Sciences, South Africa (AIMS-ZA) by Yaé Ulrich Gaba and Jeff Sanders in January 2016 and Mohau Mateyisi in January 2015.\n",
    "\n",
    "**Instructor: [Yaé Ulrich Gaba](https://github.com/gabayae), [Institut de Mathématiques et de Sciences Physiques](http://imsp-benin.com/home/)**"
   ]
  },
  {
   "cell_type": "markdown",
   "metadata": {},
   "source": [
    "Cool! We’ve come to the last chapter of this lesson before the projects. In\n",
    "this chapter, we’ll look at how to work with external files.\n",
    "\n",
    "\n",
    "In the first chapter, we learned how to get input from users using the\n",
    "input() function. However, in some cases, getting users to enter data\n",
    "into our program may not be practical, especially if our program needs to\n",
    "work with large amounts of data. In cases like this, a more convenient\n",
    "way is to prepare the needed information as an external file and get our\n",
    "programs to read the information from the file. In this chapter, we are\n",
    "going to learn to do that.\n",
    "\n",
    "A file is some information or data which stays in the computer storage devices. You already know about different kinds\n",
    "of file , like your music files, video files, text files. Python gives you easy ways to manipulate these files. Generally\n",
    "we divide files in two categories, text file and binary file. Text files are simple text where as the binary files contain\n",
    "binary data which is only readable by computer."
   ]
  },
  {
   "cell_type": "markdown",
   "metadata": {},
   "source": [
    "## File opening\n",
    "\n",
    "To open a file we use *open()* function. It requires ``two arguments``, first the **file path** or **file name**, second which **mode** it\n",
    "should open. Modes are like\n",
    "\n",
    "1. ``r`` -> open read only, you can read the file but can not edit / delete anything inside;\n",
    "2. ``w`` -> open with write power, means if the file exists then delete all content and open it to write;\n",
    "3. ``a`` -> open in append mode.\n",
    "\n",
    "\n",
    "The default mode is read only, ie if you do not provide any mode it will open the file as read only. Let us open a file:\n",
    "let’s first create a text file with the\n",
    "following lines:\n",
    "\n",
    "                Learn Python in One Day and Learn It Well\n",
    "                Python for Beginners with Hands-on Project\n",
    "                The only book you need to start coding in Python immediately\n",
    "                http://www.learncodingfast.com/python\n",
    "                \n",
    "\n",
    "Save this text file as ``love.txt``."
   ]
  },
  {
   "cell_type": "code",
   "execution_count": 2,
   "metadata": {},
   "outputs": [
    {
     "data": {
      "text/plain": [
       "<_io.TextIOWrapper name='love.txt' mode='r' encoding='UTF-8'>"
      ]
     },
     "execution_count": 2,
     "metadata": {},
     "output_type": "execute_result"
    }
   ],
   "source": [
    "fobj = open(\"love.txt\")\n",
    "fobj"
   ]
  },
  {
   "cell_type": "markdown",
   "metadata": {},
   "source": [
    "## Closing a file\n",
    "\n",
    "After opening a file one should always close the opened file. We use method *close()* for this."
   ]
  },
  {
   "cell_type": "code",
   "execution_count": null,
   "metadata": {},
   "outputs": [],
   "source": [
    "fobj = open(\"love.txt\")\n",
    "fobj\n",
    "fobj.close()"
   ]
  },
  {
   "cell_type": "markdown",
   "metadata": {},
   "source": [
    "**Important**: Important\n",
    "\n",
    "Always make sure you *explicitly* close each open file, once its job is done and you have no reason to keep it open.\n",
    "Because - There is an upper limit to the number of files a program can open. If you exceed that limit, there is no reliable\n",
    "way of recovery, so the program could crash. - Each open file consumes some main-memory for the data-structures\n",
    "associated with it, like file descriptor/handle or file locks etc. So you could essentially end-up wasting lots of memory\n",
    "if you have more files open that are not useful or usable. - Open files always stand a chance of corruption and data\n",
    "loss."
   ]
  },
  {
   "cell_type": "markdown",
   "metadata": {},
   "source": [
    "## Reading a file\n",
    "\n",
    "To read the whole file at once use the *read()* method. Let’s first create a text file with the\n",
    "following lines:\n",
    "\n",
    "\n",
    "\n",
    "                            I love Python\n",
    "                            Pradeepto loves KDE\n",
    "                            Sankarshan loves Openoffice\n",
    "                            \n",
    "Save this text file as ``sample.txt``."
   ]
  },
  {
   "cell_type": "code",
   "execution_count": 3,
   "metadata": {},
   "outputs": [
    {
     "data": {
      "text/plain": [
       "'I love Python\\nPradeepto loves KDE\\nSankarshan loves Openoffice\\n'"
      ]
     },
     "execution_count": 3,
     "metadata": {},
     "output_type": "execute_result"
    }
   ],
   "source": [
    "fobj = open(\"sample.txt\")\n",
    "fobj.read()"
   ]
  },
  {
   "cell_type": "markdown",
   "metadata": {},
   "source": [
    "If you call *read()* again it will return empty string as it already read the whole file. *readline()* can help you to read one line each time from the file."
   ]
  },
  {
   "cell_type": "code",
   "execution_count": 4,
   "metadata": {},
   "outputs": [
    {
     "data": {
      "text/plain": [
       "'I love Python\\n'"
      ]
     },
     "execution_count": 4,
     "metadata": {},
     "output_type": "execute_result"
    }
   ],
   "source": [
    "fobj = open(\"sample.txt\")\n",
    "fobj.readline()"
   ]
  },
  {
   "cell_type": "code",
   "execution_count": 5,
   "metadata": {},
   "outputs": [
    {
     "data": {
      "text/plain": [
       "'Pradeepto loves KDE\\n'"
      ]
     },
     "execution_count": 5,
     "metadata": {},
     "output_type": "execute_result"
    }
   ],
   "source": [
    "fobj.readline()"
   ]
  },
  {
   "cell_type": "code",
   "execution_count": null,
   "metadata": {},
   "outputs": [],
   "source": [
    "To read all the lines in a list we use *readlines()* method."
   ]
  },
  {
   "cell_type": "code",
   "execution_count": 7,
   "metadata": {},
   "outputs": [
    {
     "data": {
      "text/plain": [
       "['I love Python\\n', 'Pradeepto loves KDE\\n', 'Sankarshan loves Openoffice\\n']"
      ]
     },
     "execution_count": 7,
     "metadata": {},
     "output_type": "execute_result"
    }
   ],
   "source": [
    "fobj = open(\"sample.txt\")\n",
    "fobj.readlines()"
   ]
  },
  {
   "cell_type": "code",
   "execution_count": null,
   "metadata": {},
   "outputs": [],
   "source": [
    "You can even loop through the lines in a file object."
   ]
  },
  {
   "cell_type": "code",
   "execution_count": 12,
   "metadata": {},
   "outputs": [
    {
     "name": "stdout",
     "output_type": "stream",
     "text": [
      "I love Python\n",
      " Pradeepto loves KDE\n",
      " Sankarshan loves Openoffice\n",
      " "
     ]
    }
   ],
   "source": [
    "fobj = open(\"sample.txt\")\n",
    "for x in fobj:\n",
    "    print(x, end=' ')\n",
    "fobj.close()    "
   ]
  },
  {
   "cell_type": "markdown",
   "metadata": {},
   "source": [
    "Let us write a program which will take the file name as the input from the user and show the content of the file in the\n",
    "console."
   ]
  },
  {
   "cell_type": "code",
   "execution_count": 13,
   "metadata": {},
   "outputs": [
    {
     "name": "stdout",
     "output_type": "stream",
     "text": [
      "Enter the file name: sample.txt\n",
      "I love Python\n",
      "Pradeepto loves KDE\n",
      "Sankarshan loves Openoffice\n",
      "\n"
     ]
    }
   ],
   "source": [
    "name = input(\"Enter the file name: \")\n",
    "fobj = open(name)\n",
    "print(fobj.read())\n",
    "fobj.close()"
   ]
  },
  {
   "cell_type": "markdown",
   "metadata": {},
   "source": [
    "In the last line you can see that we closed the file object with the help of *close()* method."
   ]
  },
  {
   "cell_type": "markdown",
   "metadata": {},
   "source": [
    "## Writing in a file\n",
    "\n",
    "Let us open a file then we will write some random text into it by using the *write()* method."
   ]
  },
  {
   "cell_type": "code",
   "execution_count": 19,
   "metadata": {},
   "outputs": [],
   "source": [
    "fobj = open(\"ircnicks.txt\", 'w')\n",
    "fobj.write('powerpork\\n')\n",
    "fobj.write('indrag\\n')\n",
    "fobj.write('mishti\\n')\n",
    "fobj.write('sankarshan')\n",
    "fobj.close()"
   ]
  },
  {
   "cell_type": "markdown",
   "metadata": {},
   "source": [
    "Now read the file we just created."
   ]
  },
  {
   "cell_type": "code",
   "execution_count": 22,
   "metadata": {},
   "outputs": [
    {
     "name": "stdout",
     "output_type": "stream",
     "text": [
      "powerpork\n",
      "indrag\n",
      "mishti\n",
      "sankarshan\n"
     ]
    }
   ],
   "source": [
    "fobj = open('ircnicks.txt')\n",
    "s = fobj.read()\n",
    "print(s)"
   ]
  },
  {
   "cell_type": "markdown",
   "metadata": {},
   "source": [
    "Suppose you are given a list of students and their respective  marks and you want to write a file in which the first column contains the students names and the second column contains their respective marks. That is your file must look like this:\n",
    "\n",
    "   ### Students Names $\\quad\\quad\\quad$       Marks\n",
    "        Thabo                90\n",
    "        Wilfrid              90.1\n",
    "        Liu                  99.99\n",
    "        Marc                 100 "
   ]
  },
  {
   "cell_type": "code",
   "execution_count": 23,
   "metadata": {},
   "outputs": [],
   "source": [
    "std = open('StudentsMarks.txt', 'w')                   # Create a file named StudentsMarks.txt for writing\n",
    "std.write(\"Students' Mark \\t  Marks \\n\")               # the tab character \\t create a huge space between the first and the second column\n",
    "std.write('Thabo \\t ' + str(90) +'\\n')                 # convert numbers into strings before writing to a file \n",
    "std.write('Wilfrid \\t ' + str(90.1) +'\\n')            #  don't forget to go to the next line with the end of line character \\n\n",
    "std.write('Liu \\t ' + str(99.99)  + '\\n') \n",
    "std.write('Marc  \\t ' + str(100))\n",
    "\n",
    "std.close() "
   ]
  },
  {
   "cell_type": "markdown",
   "metadata": {},
   "source": [
    "## Exercises\n",
    "\n",
    "1. Investigate the available methods on a variable of type *file* on a given. \n",
    "\n",
    "2. Write write a program that reads a file where each line contains a number and returns a\n",
    ">list containing the square of those numbers\n",
    "\n",
    "3. Write a pogram that receives as command line parameter the name of a file and counts\n",
    ">the number of lines of that file.\n",
    "\n",
    "4. Write a program that reads a file where each line contains a number and print the sum of\n",
    ">all the numbers.\n",
    "\n",
    "5. Write a program that reads a file and writes another file that is the line by line reversal.\n",
    ">That is the first line of the new file is the last line the former and so on.\n"
   ]
  },
  {
   "cell_type": "markdown",
   "metadata": {},
   "source": [
    "## Exercise \n",
    "\n",
    "1. Creta a ``my_data.txt`` file in the following format:\n",
    "\n",
    "                    Name:..........  \n",
    "                    Coutry:.........\n",
    "                    University:..............\n",
    "                    Expertise:...........\n",
    "                    Planed Career:......... \n",
    "                    \n",
    "2. Write a python function `` I_copy_files`` that asks the user to input a file name and returns another file\n",
    "   which is a copy of the previous one. Test your function on the file ``my_data.txt``.\n",
    "                    "
   ]
  },
  {
   "cell_type": "code",
   "execution_count": null,
   "metadata": {},
   "outputs": [],
   "source": []
  }
 ],
 "metadata": {
  "kernelspec": {
   "display_name": "Python 3",
   "language": "python",
   "name": "python3"
  },
  "language_info": {
   "codemirror_mode": {
    "name": "ipython",
    "version": 3
   },
   "file_extension": ".py",
   "mimetype": "text/x-python",
   "name": "python",
   "nbconvert_exporter": "python",
   "pygments_lexer": "ipython3",
   "version": "3.7.3"
  }
 },
 "nbformat": 4,
 "nbformat_minor": 2
}
