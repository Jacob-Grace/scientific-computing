{
 "cells": [
  {
   "cell_type": "markdown",
   "metadata": {},
   "source": [
    "# Functions and Modules\n",
    "\n",
    "Based on Lecture Materials presented at the African Institute for Mathematical Sciences, South Africa (AIMS-ZA) by Yaé Ulrich Gaba and Jeff Sanders in January 2016 and Mohau Mateyisi in January 2015.\n",
    "\n",
    "**Instructor: [Yaé Ulrich Gaba](https://github.com/gabayae), [Institut de Mathématiques et de Sciences Physiques](http://imsp-benin.com/home/)**"
   ]
  },
  {
   "cell_type": "markdown",
   "metadata": {},
   "source": [
    "Computers are very useful for doing the same operation over and over. When you know you will be performing the same operation many times, it is best to encapsulate this similar code into a function or a method. Functions are based on mathematical functions which are used to reffer to a sequence of operations, often parameterized in some way - e.g. $f(x)$.\n",
    "\n",
    "All programming\n",
    "languages come with built-in codes that we can use to make our lives\n",
    "easier as programmers. These codes consist of pre-written classes,\n",
    "variables and functions for performing certain common tasks and are\n",
    "saved in files known as modules. Let’s first look at functions."
   ]
  },
  {
   "cell_type": "markdown",
   "metadata": {},
   "source": [
    "# Creating your own functions!\n",
    "When there is not an available function to perform a task, you can write your own functions.  Ths simplest functions have the  following format in Python:\n",
    "\n",
    "    def <function name>():\n",
    "        <function body>"
   ]
  },
  {
   "cell_type": "code",
   "execution_count": null,
   "metadata": {},
   "outputs": [],
   "source": [
    "def do_nothing():\n",
    "    s = \"I don't do much\""
   ]
  },
  {
   "cell_type": "markdown",
   "metadata": {},
   "source": [
    "However, this often isn't very useful since we haven't returned any values from this file.  Note: that if you don't return anything from a function in Python, you implcitly have returned the special `None` singleton.  To return vaulues that you computed locally in the function body, use the **return** keyword.\n",
    "\n",
    "    def <function name>():\n",
    "        <functiom body>\n",
    "        return <local variable 1>      "
   ]
  },
  {
   "cell_type": "markdown",
   "metadata": {},
   "source": [
    "Functions, may be defined to take parameters or **arguments**.\n",
    "\n",
    "    def <function name>(<argument>):\n",
    "        <function body>\n",
    "        return <local variable 1>  \n",
    "        \n",
    "The function name, arguments, and retun are jointly known as the **function signature** since the uniquely define the function's **interface**."
   ]
  },
  {
   "cell_type": "code",
   "execution_count": null,
   "metadata": {},
   "outputs": [],
   "source": [
    "def square(x):\n",
    "    sqr = x * x\n",
    "    return sqr"
   ]
  },
  {
   "cell_type": "markdown",
   "metadata": {},
   "source": [
    "Using a function is done by placing parentheses `()` after the function name after you have defined it.  This is known as **calling** the function.  If the function requires arguments, the values for these arguments are inside of the parentheses"
   ]
  },
  {
   "cell_type": "code",
   "execution_count": null,
   "metadata": {},
   "outputs": [],
   "source": [
    "square(2)"
   ]
  },
  {
   "cell_type": "markdown",
   "metadata": {},
   "source": [
    "Like mathematical funtions, you can compose a function with other functions or with itself!"
   ]
  },
  {
   "cell_type": "code",
   "execution_count": null,
   "metadata": {},
   "outputs": [],
   "source": [
    "square(square(2))"
   ]
  },
  {
   "cell_type": "markdown",
   "metadata": {},
   "source": [
    "Fucntions may be defined such that they have multiple arguments or multiple return values:\n",
    "\n",
    "    def <function name>(<arg1>, <arg2>, ...):\n",
    "        <functiom body>\n",
    "        return <var1> , <var2>, ..."
   ]
  },
  {
   "cell_type": "code",
   "execution_count": null,
   "metadata": {},
   "outputs": [],
   "source": [
    "def hello(time, name):\n",
    "    print 'Good ' + time + ', ' + name + '!'"
   ]
  },
  {
   "cell_type": "code",
   "execution_count": null,
   "metadata": {},
   "outputs": [],
   "source": [
    "hello('afternoon', 'Software Carpentry')"
   ]
  },
  {
   "cell_type": "code",
   "execution_count": null,
   "metadata": {},
   "outputs": [],
   "source": [
    "# return both the quotient and remainder\n",
    "def quorem(a, b):\n",
    "    quo = a / b\n",
    "    rem = a % b\n",
    "    return quo, rem"
   ]
  },
  {
   "cell_type": "code",
   "execution_count": null,
   "metadata": {},
   "outputs": [],
   "source": [
    "quorem(42, 16)"
   ]
  },
  {
   "cell_type": "markdown",
   "metadata": {},
   "source": [
    "Note that when you return multiple values you may unpack these into individual variables:"
   ]
  },
  {
   "cell_type": "code",
   "execution_count": null,
   "metadata": {},
   "outputs": [],
   "source": [
    "q, r = quorem(42, 16)\n",
    "print q\n",
    "print r"
   ]
  },
  {
   "cell_type": "markdown",
   "metadata": {},
   "source": [
    "### Variable Scope\n",
    "\n",
    "An important concept to understand when defining a function is the\n",
    "concept of variable scope. Variables defined inside a function are treated\n",
    "differently from variables defined outside. There are two main differences."
   ]
  },
  {
   "cell_type": "markdown",
   "metadata": {},
   "source": [
    "#### Firstly,\n",
    "Any variable declared inside a function is only accessible within\n",
    "the function. These are known as local variables. Any variable declared\n",
    "outside a function is known as a global variable and is accessible\n",
    "anywhere in the program. To understand this, try the code below:"
   ]
  },
  {
   "cell_type": "code",
   "execution_count": null,
   "metadata": {},
   "outputs": [],
   "source": [
    "message1 = \"Global Variable\"\n",
    "\n",
    "def myFunction():\n",
    "    print(\"\\nINSIDE THE FUNCTION\") #Global variables are accessible inside a function \n",
    "    print (message1)\n",
    "    message2 = \"Local Variable\" #Declaring a local variable \n",
    "    print (message2)\n",
    "    \n",
    "    \n",
    "myFunction() #Calling the function \n",
    "print(\"\\nOUTSIDE THE FUNCTION\")   \n",
    "\n",
    "\n",
    "#Global variables are accessible outside function\n",
    "print (message1)\n",
    "\n",
    "\n",
    "#Local variables are NOT accessible outside function.\n",
    "print (message2)"
   ]
  },
  {
   "cell_type": "markdown",
   "metadata": {},
   "source": [
    "#### Secondly \n",
    "If a local\n",
    "variable shares the same name as a global variable, any code inside the\n",
    "function is accessing the local variable. Any code outside is accessing\n",
    "the global variable. Try running the code below"
   ]
  },
  {
   "cell_type": "code",
   "execution_count": null,
   "metadata": {},
   "outputs": [],
   "source": [
    "message1 = \"Global Variable (shares same name as a local variable)\"\n",
    "\n",
    "def myFunction():\n",
    "    message1 = \"Local Variable (shares same name as a global variable)\"\n",
    "    print(\"\\nINSIDE THE FUNCTION\") \n",
    "    print(message1)\n",
    "    \n",
    "\n",
    "# Calling the function \n",
    "myFunction()\n",
    "\n",
    "\n",
    "# Printing message1 OUTSIDE the function \n",
    "print(\"\\nOUTSIDE THE FUNCTION\") \n",
    "print (message1)"
   ]
  },
  {
   "cell_type": "markdown",
   "metadata": {},
   "source": [
    "## Keyword Arguments\n",
    "\n",
    "In Python, functions also support options default values for arguments.  Arguments with an associated default are called **keyword arguments**.  If this function is then called without one of these arguments being pesent the default value is used.  All keyword arguments must come after normal arguments in the function definition:\n",
    "\n",
    "    def <function name>(<arg1>, <arg2>, <arg3>=<arg3 default>, <arg4>=<arg4 default>, ...):\n",
    "        <function body>\n",
    "        return <rtn>"
   ]
  },
  {
   "cell_type": "code",
   "execution_count": null,
   "metadata": {},
   "outputs": [],
   "source": [
    "def add_space(s, t=\"Mom\"):\n",
    "    return s + \" \" + t"
   ]
  },
  {
   "cell_type": "code",
   "execution_count": null,
   "metadata": {},
   "outputs": [],
   "source": [
    "print add_space(\"Hello\")\n",
    "print add_space(\"Morning\", \"Dad\")"
   ]
  },
  {
   "cell_type": "markdown",
   "metadata": {},
   "source": [
    "You can also call any functions with their arguments, regular and keyword, with their argument names explictly in the call.  This uses equal signs in the same way that keyword arguments are defined."
   ]
  },
  {
   "cell_type": "code",
   "execution_count": null,
   "metadata": {},
   "outputs": [],
   "source": [
    "print add_space(s=\"Hello\")\n",
    "print add_space(s=\"Morning\", t=\"Dad\")"
   ]
  },
  {
   "cell_type": "markdown",
   "metadata": {},
   "source": [
    "If you have many keyword arguments, then they may be out of order in function call as long as they are explicit."
   ]
  },
  {
   "cell_type": "code",
   "execution_count": null,
   "metadata": {},
   "outputs": [],
   "source": [
    "def f(x=1, y=2, z=3):\n",
    "    return 2*x**3 + 42*y - z"
   ]
  },
  {
   "cell_type": "code",
   "execution_count": null,
   "metadata": {},
   "outputs": [],
   "source": [
    "f(y=17, z=15, x=2)"
   ]
  },
  {
   "cell_type": "markdown",
   "metadata": {},
   "source": [
    "### Exercise\n",
    "\n",
    "Write a function called `increment` that increments (increases) one number by another number and returns the result. By default it should increment any number by `1`."
   ]
  },
  {
   "cell_type": "code",
   "execution_count": null,
   "metadata": {},
   "outputs": [],
   "source": []
  },
  {
   "cell_type": "markdown",
   "metadata": {},
   "source": [
    "Check your work:"
   ]
  },
  {
   "cell_type": "code",
   "execution_count": null,
   "metadata": {},
   "outputs": [],
   "source": [
    "increment(5) == 6\n",
    "increment(-5) == -4\n",
    "increment(5, 2.5) == 7.5"
   ]
  },
  {
   "cell_type": "markdown",
   "metadata": {},
   "source": [
    "###  Docstrings\n",
    "\n",
    "In Python we use **docstrings** to explain how to use the code, it will be useful in interactive mode and to create auto-documentation. Below we see an example of the docstring for a function called\n",
    "*longest_side*."
   ]
  },
  {
   "cell_type": "code",
   "execution_count": null,
   "metadata": {},
   "outputs": [],
   "source": [
    "import math\n",
    "\n",
    "def longest_side(a, b):    \n",
    "    \"\"\"\n",
    "    Function to find the length of the longest side of a right triangle.\n",
    "    :arg a: Side a of the triangle\n",
    "    :arg b: Side b of the triangle\n",
    "    :return: Length of the longest side c as float\n",
    "\n",
    "    \"\"\"\n",
    "    return math.sqrt(a* a + b*b)"
   ]
  },
  {
   "cell_type": "markdown",
   "metadata": {},
   "source": [
    "### map function\n",
    "\n",
    "``map`` is a very useful higher order function in Python. It takes one function and an iterator as input and then applies the function on each value of the iterator and returns a list of results."
   ]
  },
  {
   "cell_type": "code",
   "execution_count": null,
   "metadata": {},
   "outputs": [],
   "source": [
    "lst = range(1,6)\n",
    "def square(num):    \n",
    "    \"\"\"\n",
    "    Returns the square of a given number.\n",
    "    \"\"\"\n",
    "    return num * num\n",
    "\n",
    "print(list(map(square, lst)))"
   ]
  },
  {
   "cell_type": "markdown",
   "metadata": {},
   "source": [
    "## Recursions\n",
    "\n",
    "One of the greatest features of functions is that they may call themselves from withing their own bodies!  This is known as **recurssion**.  "
   ]
  },
  {
   "cell_type": "code",
   "execution_count": null,
   "metadata": {},
   "outputs": [],
   "source": [
    "def count_backwards(x):\n",
    "    print x\n",
    "    if x > 0:\n",
    "        count_backwards(x-1)"
   ]
  },
  {
   "cell_type": "code",
   "execution_count": null,
   "metadata": {},
   "outputs": [],
   "source": [
    "count_backwards(10)"
   ]
  },
  {
   "cell_type": "markdown",
   "metadata": {},
   "source": [
    "One of the most famous recurssive sequences is the [Fibonacci sequence](http://en.wikipedia.org/wiki/Fibonacci_number).  This can be defined as a single recursive function."
   ]
  },
  {
   "cell_type": "code",
   "execution_count": null,
   "metadata": {},
   "outputs": [],
   "source": [
    "def fib(n):\n",
    "    if n == 0 or n == 1:\n",
    "        return n\n",
    "    else:\n",
    "        return fib(n - 1) + fib(n - 2)"
   ]
  },
  {
   "cell_type": "code",
   "execution_count": null,
   "metadata": {},
   "outputs": [],
   "source": [
    "fib(10)"
   ]
  },
  {
   "cell_type": "markdown",
   "metadata": {},
   "source": [
    "## Lambdas\n",
    "\n",
    "Lambdas are small, single expression functions that are **anonymous** (they have no name).  They come from functional programming languages and the [Lambda Calculus](http://en.wikipedia.org/wiki/Lambda_calculus). Since they are so small they may be written on a single line. \n",
    "\n",
    "    lambda <args>: <expr>\n",
    "    "
   ]
  },
  {
   "cell_type": "code",
   "execution_count": null,
   "metadata": {},
   "outputs": [],
   "source": [
    "lambda x: x + 1"
   ]
  },
  {
   "cell_type": "markdown",
   "metadata": {},
   "source": [
    "Note that just because they are implicitly anonymous, doesn't mean that you can't name them."
   ]
  },
  {
   "cell_type": "code",
   "execution_count": null,
   "metadata": {},
   "outputs": [],
   "source": [
    "f = lambda x, y: x + y +1"
   ]
  },
  {
   "cell_type": "code",
   "execution_count": null,
   "metadata": {},
   "outputs": [],
   "source": [
    "print f(2, 3)\n",
    "print f(4.5, 6)"
   ]
  },
  {
   "cell_type": "markdown",
   "metadata": {},
   "source": [
    "This is much more useful than it might seem at first glance."
   ]
  },
  {
   "cell_type": "markdown",
   "metadata": {},
   "source": [
    "## Short exercise: Write a function to calculate GC content of DNA\n",
    "Make a function that calculate the GC content of a given DNA sequence. If you have extra time, make your function able to handle sequences of mixed case (see the third test case)."
   ]
  },
  {
   "cell_type": "code",
   "execution_count": null,
   "metadata": {},
   "outputs": [],
   "source": [
    "# Calculates the GC content of DNA sequence x.\n",
    "# x: a string composed only of A's, T's, G's, and C's.\n",
    "def calculate_gc(x):\n"
   ]
  },
  {
   "cell_type": "markdown",
   "metadata": {},
   "source": [
    "Check your work:"
   ]
  },
  {
   "cell_type": "code",
   "execution_count": null,
   "metadata": {},
   "outputs": [],
   "source": [
    "print round(calculate_gc('ATGC'), ndigits = 2) == 0.50\n",
    "print round(calculate_gc('AGCGTCGTCAGTCGT'), ndigits = 2) == 0.60\n",
    "print round(calculate_gc('ATaGtTCaAGcTCgATtGaATaGgTAaCt'), ndigits = 2) == 0.34"
   ]
  },
  {
   "cell_type": "markdown",
   "metadata": {},
   "source": [
    "# Modules\n",
    "Python has a lot of useful data type and functions built into the language, some of which you have already seen. For a full list, you can type `dir(__builtins__)`. However, there are even more functions stored in modules. An example is the sine function, which is stored in the math module. In order to access mathematical functions, like sin, we need to **import** the math module. Lets take a look at a simple example:"
   ]
  },
  {
   "cell_type": "code",
   "execution_count": null,
   "metadata": {},
   "outputs": [],
   "source": [
    "print sin(3) # Error! Python doesn't know what sin is...yet"
   ]
  },
  {
   "cell_type": "code",
   "execution_count": null,
   "metadata": {},
   "outputs": [],
   "source": [
    "import math # Import the math module\n",
    "math.sin(3)"
   ]
  },
  {
   "cell_type": "code",
   "execution_count": null,
   "metadata": {},
   "outputs": [],
   "source": [
    "dir(math) # See a list of everything in the math module"
   ]
  },
  {
   "cell_type": "code",
   "execution_count": null,
   "metadata": {},
   "outputs": [],
   "source": [
    "help(math) # Get help information for the math module"
   ]
  },
  {
   "cell_type": "markdown",
   "metadata": {},
   "source": [
    "It is not very difficult to use modules - you just have to know the module name and import it. There are a few variations on the import statement that can be used to make your life easier. Lets take a look at an example:"
   ]
  },
  {
   "cell_type": "code",
   "execution_count": null,
   "metadata": {},
   "outputs": [],
   "source": [
    "from math import *  # import everything from math into the global namespace (A BAD IDEA IN GENERAL)\n",
    "print sin(3)        # notice that we don't need to type math.sin anymore\n",
    "print tan(3)        # the tangent function was also in math, so we can use that too"
   ]
  },
  {
   "cell_type": "code",
   "execution_count": null,
   "metadata": {},
   "outputs": [],
   "source": [
    "reset # Clear everything from IPython"
   ]
  },
  {
   "cell_type": "code",
   "execution_count": null,
   "metadata": {},
   "outputs": [],
   "source": [
    "from math import sin  # Import just sin from the math module. This is a good idea.\n",
    "print sin(3)          # We can use sin because we just imported it\n",
    "print tan(3)          # Error: We only imported sin - not tan"
   ]
  },
  {
   "cell_type": "code",
   "execution_count": null,
   "metadata": {},
   "outputs": [],
   "source": [
    "reset                 # Clear everything"
   ]
  },
  {
   "cell_type": "code",
   "execution_count": null,
   "metadata": {},
   "outputs": [],
   "source": [
    "import math as m      # Same as import math, except we are renaming the module m\n",
    "print m.sin(3)        # This is really handy if you have module names that are long"
   ]
  },
  {
   "cell_type": "markdown",
   "metadata": {},
   "source": [
    "Python comes with a *huge* number of modules available as part of the standard library (batteries included).  It has a gargantuan number of third party modules as well.  This ecosystem is what makes scientific software development in Python great!"
   ]
  },
  {
   "cell_type": "markdown",
   "metadata": {},
   "source": [
    "### Creating your Own Module\n",
    "\n",
    "Besides importing built-in modules, we can also create our own modules.\n",
    "This is very useful if you have some functions that you want to reuse in\n",
    "other programming projects in future.\n",
    "\n",
    "\n",
    "Creating a module is simple. Simply save the file with a ``.py`` extension and\n",
    "put it in the same folder as the Python file that you are going to import it\n",
    "from.\n",
    "\n",
    "\n",
    "Suppose you want to use a ``checkIfPrime()`` function\n",
    "in another Python script. Here’s how you do it. First save the code above\n",
    "as prime.py on your desktop. prime.py should have the following\n",
    "code."
   ]
  },
  {
   "cell_type": "code",
   "execution_count": null,
   "metadata": {},
   "outputs": [],
   "source": [
    "def checkIfPrime (numberToCheck):\n",
    "    for x in range(2, numberToCheck):\n",
    "        if (numberToCheck%x == 0):\n",
    "            return False\n",
    "    return True"
   ]
  },
  {
   "cell_type": "code",
   "execution_count": null,
   "metadata": {},
   "outputs": [],
   "source": [
    "Save the code above as ``prime.py`` on your desktop or the appropriate folder."
   ]
  },
  {
   "cell_type": "code",
   "execution_count": null,
   "metadata": {},
   "outputs": [],
   "source": [
    "#Next, create another Python file and name it useCheckIfPrime.py.\n",
    "#Save it on your desktop as well. useCheckIfPrime.py should have the\n",
    "#following code."
   ]
  },
  {
   "cell_type": "code",
   "execution_count": null,
   "metadata": {},
   "outputs": [],
   "source": [
    "import prime\n",
    "answer = prime.checkIfPrime(13)\n",
    "print (answer)"
   ]
  },
  {
   "cell_type": "code",
   "execution_count": null,
   "metadata": {},
   "outputs": [],
   "source": []
  },
  {
   "cell_type": "code",
   "execution_count": null,
   "metadata": {},
   "outputs": [],
   "source": []
  }
 ],
 "metadata": {
  "anaconda-cloud": {},
  "kernelspec": {
   "display_name": "Python 3",
   "language": "python",
   "name": "python3"
  },
  "language_info": {
   "codemirror_mode": {
    "name": "ipython",
    "version": 3
   },
   "file_extension": ".py",
   "mimetype": "text/x-python",
   "name": "python",
   "nbconvert_exporter": "python",
   "pygments_lexer": "ipython3",
   "version": "3.7.3"
  }
 },
 "nbformat": 4,
 "nbformat_minor": 1
}
