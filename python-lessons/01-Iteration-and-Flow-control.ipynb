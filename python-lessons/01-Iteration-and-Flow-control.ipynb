{
 "cells": [
  {
   "cell_type": "markdown",
   "metadata": {},
   "source": [
    "# Flow Control and Iteration\n",
    "\n",
    "Based on Lecture Materials presented at the African Institute for Mathematical Sciences, South Africa (AIMS-ZA) by Yaé Ulrich Gaba and Jeff Sanders in January 2016 and Mohau Mateyisi in January 2015.\n",
    "\n",
    "**Instructor: [Yaé Ulrich Gaba](https://github.com/gabayae), [Institut de Mathématiques et de Sciences Physiques](http://imsp-benin.com/home/)**"
   ]
  },
  {
   "cell_type": "markdown",
   "metadata": {},
   "source": [
    "Python provides different control structures that allow us to adapt to all possible cases. It allows the make decision (alternative structure) and loops (repetitive structures)."
   ]
  },
  {
   "cell_type": "markdown",
   "metadata": {},
   "source": [
    "##  Comparisons (Revision)\n",
    "\n",
    "Python comes with literal comparison operators.  Namely, `<; >; <=; >=; ==; !=`.  All comparisons return the lirteral boolean values: `True` or `False`.  These can be used to test values against one another. For example,"
   ]
  },
  {
   "cell_type": "code",
   "execution_count": 25,
   "metadata": {},
   "outputs": [
    {
     "data": {
      "text/plain": [
       "True"
      ]
     },
     "execution_count": 25,
     "metadata": {},
     "output_type": "execute_result"
    }
   ],
   "source": [
    "2 + 2 == 4"
   ]
  },
  {
   "cell_type": "code",
   "execution_count": 26,
   "metadata": {},
   "outputs": [
    {
     "data": {
      "text/plain": [
       "False"
      ]
     },
     "execution_count": 26,
     "metadata": {},
     "output_type": "execute_result"
    }
   ],
   "source": [
    "'big' > 'small'"
   ]
  },
  {
   "cell_type": "markdown",
   "metadata": {},
   "source": [
    "Comparisons can be chained together with the **and** & **or** Python keywords."
   ]
  },
  {
   "cell_type": "code",
   "execution_count": 27,
   "metadata": {},
   "outputs": [
    {
     "data": {
      "text/plain": [
       "True"
      ]
     },
     "execution_count": 27,
     "metadata": {},
     "output_type": "execute_result"
    }
   ],
   "source": [
    "1 == 1.0 and 'hello' == 'hello'"
   ]
  },
  {
   "cell_type": "code",
   "execution_count": 28,
   "metadata": {},
   "outputs": [
    {
     "data": {
      "text/plain": [
       "False"
      ]
     },
     "execution_count": 28,
     "metadata": {},
     "output_type": "execute_result"
    }
   ],
   "source": [
    "1 >10 or False"
   ]
  },
  {
   "cell_type": "code",
   "execution_count": 29,
   "metadata": {},
   "outputs": [
    {
     "data": {
      "text/plain": [
       "True"
      ]
     },
     "execution_count": 29,
     "metadata": {},
     "output_type": "execute_result"
    }
   ],
   "source": [
    "42 < 24 or True and 'wow' != 'mom'"
   ]
  },
  {
   "cell_type": "markdown",
   "metadata": {},
   "source": [
    "Comparisons may also be negated using the **not** keyword."
   ]
  },
  {
   "cell_type": "code",
   "execution_count": 30,
   "metadata": {},
   "outputs": [
    {
     "data": {
      "text/plain": [
       "True"
      ]
     },
     "execution_count": 30,
     "metadata": {},
     "output_type": "execute_result"
    }
   ],
   "source": [
    "not 2 + 2 == 5"
   ]
  },
  {
   "cell_type": "markdown",
   "metadata": {},
   "source": [
    "Finally, the **is** opperator says wherer two objects are the same because they occupy the same place in memory.  This is a test of *equality* (is) rather than *equivalence* (==)."
   ]
  },
  {
   "cell_type": "code",
   "execution_count": 31,
   "metadata": {},
   "outputs": [
    {
     "data": {
      "text/plain": [
       "True"
      ]
     },
     "execution_count": 31,
     "metadata": {},
     "output_type": "execute_result"
    }
   ],
   "source": [
    "x = 'hello'\n",
    "y = x\n",
    "x is y"
   ]
  },
  {
   "cell_type": "code",
   "execution_count": 32,
   "metadata": {},
   "outputs": [
    {
     "data": {
      "text/plain": [
       "False"
      ]
     },
     "execution_count": 32,
     "metadata": {},
     "output_type": "execute_result"
    }
   ],
   "source": [
    "5 is 5.0"
   ]
  },
  {
   "cell_type": "code",
   "execution_count": 33,
   "metadata": {},
   "outputs": [
    {
     "data": {
      "text/plain": [
       "True"
      ]
     },
     "execution_count": 33,
     "metadata": {},
     "output_type": "execute_result"
    }
   ],
   "source": [
    "5 is not 5.0"
   ]
  },
  {
   "cell_type": "markdown",
   "metadata": {},
   "source": [
    "##  Making Decision or If statements"
   ]
  },
  {
   "cell_type": "markdown",
   "metadata": {},
   "source": [
    "The decision structure is to run something in the event that a condition is true. Decision structures evaluate multiple expressions which produce TRUE or FALSE as result. You need to determine which action to take and which statements to execute if outcome is TRUE or FALSE otherwise.\n",
    "\n",
    "That said, these comparisons can be placed inside of an **if** statement.  Such statements have the following form:\n",
    "\n",
    "    if <condition>:\n",
    "        <indented block of code>\n",
    "        \n",
    "  <img src=\" if_else_statement.jpg\" alt=\"Vlad's Home Directory\" />      \n",
    "        \n",
    "        \n",
    "\n",
    "The indented code will only be execute if the condition evaulates to `True`, which is a special boolean value.\n"
   ]
  },
  {
   "cell_type": "code",
   "execution_count": 34,
   "metadata": {},
   "outputs": [],
   "source": [
    "x=10\n",
    "y=12\n",
    "if x == 5:\n",
    "    print (\"x vaut 5\")"
   ]
  },
  {
   "cell_type": "code",
   "execution_count": 35,
   "metadata": {},
   "outputs": [
    {
     "name": "stdout",
     "output_type": "stream",
     "text": [
      "y is negative\n"
     ]
    }
   ],
   "source": [
    "y = -x\n",
    "if y < 0:\n",
    "    print (\"y is negative\")"
   ]
  },
  {
   "cell_type": "markdown",
   "metadata": {},
   "source": [
    "The **if** statement can be combined to great effect with a corresponding **else** clause. \n",
    "\n",
    "    if <condition>:\n",
    "        <if-block>\n",
    "    else:\n",
    "        <else-block>\n",
    "        \n",
    "When the condition is `True` the if-block is executed.  When the condition is `False` the else-block is executed instead."
   ]
  },
  {
   "cell_type": "code",
   "execution_count": 36,
   "metadata": {},
   "outputs": [
    {
     "name": "stdout",
     "output_type": "stream",
     "text": [
      "x in non-negative\n"
     ]
    }
   ],
   "source": [
    "x = 5\n",
    "if x < 0:\n",
    "    print (\"x is negative\")\n",
    "else:\n",
    "    print (\"x in non-negative\")"
   ]
  },
  {
   "cell_type": "markdown",
   "metadata": {},
   "source": [
    "Many cases may be tested by using the **elif** statement.  These come between all the if and else statements:\n",
    "\n",
    "    if <if-condition>:\n",
    "        <if-block>\n",
    "    elif <elif-condition>:\n",
    "        <elif-block>\n",
    "    else:\n",
    "        <else-block>\n",
    "        \n",
    "When ``if-condition`` is true then only the ``if-block`` is executed.  When ``elif-condition`` is true then only the ``elif-block`` is executed.  When neither of these are true then the ``else-block`` is executed."
   ]
  },
  {
   "cell_type": "code",
   "execution_count": 37,
   "metadata": {},
   "outputs": [
    {
     "name": "stdout",
     "output_type": "stream",
     "text": [
      "x is positive\n"
     ]
    }
   ],
   "source": [
    "x = 5\n",
    "if x < 0:\n",
    "    print (\"x is negative\")\n",
    "elif x == 0:\n",
    "    print (\"x is zero\")\n",
    "else:\n",
    "    print (\"x is positive\")"
   ]
  },
  {
   "cell_type": "markdown",
   "metadata": {},
   "source": [
    "While there must be one if statetment, and there may be at most one else statement, there maybe as many elif statements as are desired.\n",
    "\n",
    "    if <if-condition>:\n",
    "        <if-block>\n",
    "    elif <elif-condition1>:\n",
    "        <elif-block1>\n",
    "    elif <elif-condition2>:\n",
    "        <elif-block2>\n",
    "    elif <elif-condition3>:\n",
    "        <elif-block3>\n",
    "    ...\n",
    "    else:\n",
    "        <else-block>\n",
    "        \n",
    "Only the block for top most condition that is true is executed."
   ]
  },
  {
   "cell_type": "code",
   "execution_count": 38,
   "metadata": {},
   "outputs": [
    {
     "name": "stdout",
     "output_type": "stream",
     "text": [
      "x is positive and greater than 2\n"
     ]
    }
   ],
   "source": [
    "x = 5\n",
    "if x < 0:\n",
    "    print (\"x is negative\")\n",
    "elif x == 0:\n",
    "    print (\"x is zero\")\n",
    "#elif x > 0:    \n",
    "   # print (\"x is positive\")\n",
    "elif x == 1:\n",
    "    print (\"x is one\")\n",
    "elif x == 2:\n",
    "    print (\"x is two\")\n",
    "else:\n",
    "    print (\"x is positive and greater than 2\")"
   ]
  },
  {
   "cell_type": "markdown",
   "metadata": {},
   "source": [
    "**Exercise:** Write an if statement that prints whether x is even or odd."
   ]
  },
  {
   "cell_type": "markdown",
   "metadata": {},
   "source": [
    "### Lists of Sequential Numbers\n",
    "\n",
    "Many times it is helpful to have a list of numbers in a row. In Python, this is called a `range`. "
   ]
  },
  {
   "cell_type": "code",
   "execution_count": 39,
   "metadata": {},
   "outputs": [
    {
     "data": {
      "text/plain": [
       "range(0, 5)"
      ]
     },
     "execution_count": 39,
     "metadata": {},
     "output_type": "execute_result"
    }
   ],
   "source": [
    "range(5)"
   ]
  },
  {
   "cell_type": "markdown",
   "metadata": {},
   "source": [
    "Note that the list that you get will start at 0 by default (like list indicies) and goes up to _but does not include_ the number requested. This may seem nonintutitive, but the rationale is the following: \n",
    "\n",
    "- the default is to start with `0`\n",
    "- the goal is to provide a list of `N` total number (for example, `range(5)` provides 5 numbers total\n"
   ]
  },
  {
   "cell_type": "markdown",
   "metadata": {},
   "source": [
    "However, you can make them start with 1 if you want!"
   ]
  },
  {
   "cell_type": "code",
   "execution_count": 40,
   "metadata": {},
   "outputs": [
    {
     "data": {
      "text/plain": [
       "range(1, 5)"
      ]
     },
     "execution_count": 40,
     "metadata": {},
     "output_type": "execute_result"
    }
   ],
   "source": [
    "range(1, 5)"
   ]
  },
  {
   "cell_type": "markdown",
   "metadata": {},
   "source": [
    "Lear more about the range command."
   ]
  },
  {
   "cell_type": "code",
   "execution_count": 41,
   "metadata": {},
   "outputs": [],
   "source": [
    "range?"
   ]
  },
  {
   "cell_type": "markdown",
   "metadata": {},
   "source": [
    "## Loops"
   ]
  },
  {
   "cell_type": "markdown",
   "metadata": {},
   "source": [
    "In programming, a loop is a sequence of instructions that is continually repeated until a certain condition is reached. Imagine we want to compute the mean of 2 real numbers, we will need 2 variables to store this two values. For 3 numbers, we will need 3 variables as follows:"
   ]
  },
  {
   "cell_type": "code",
   "execution_count": 42,
   "metadata": {},
   "outputs": [
    {
     "name": "stdout",
     "output_type": "stream",
     "text": [
      "7.366666666666667\n"
     ]
    }
   ],
   "source": [
    "a=10.1\n",
    "b=4\n",
    "c=8\n",
    "var_mean=(a+b+c)/3\n",
    "print (var_mean)"
   ]
  },
  {
   "cell_type": "markdown",
   "metadata": {},
   "source": [
    "What about 1000 real numbers? Will we declare 1000 variables as done for 3 variables? I think the answer is NOT. A loop is required in this case. There are two types of loops in Python: **for loop** and **while loop**.\n",
    "\n",
    "###  Syntax\n",
    "\n",
    "\n",
    "    while <condition>:\n",
    "        <indented block of code>\n",
    "As long as the condition is True, the code in the block will continue to execute.  This may lead to infitinely executing loops!"
   ]
  },
  {
   "cell_type": "code",
   "execution_count": 43,
   "metadata": {},
   "outputs": [
    {
     "name": "stdout",
     "output_type": "stream",
     "text": [
      "0\n",
      "1\n",
      "2\n",
      "3\n",
      "4\n",
      "5\n",
      "6\n",
      "7\n"
     ]
    }
   ],
   "source": [
    "N = 10\n",
    "i=0\n",
    "while i < 8:\n",
    "    print (i)\n",
    "    i = i+1"
   ]
  },
  {
   "cell_type": "markdown",
   "metadata": {},
   "source": [
    "####  Fibonacci Series"
   ]
  },
  {
   "cell_type": "code",
   "execution_count": 44,
   "metadata": {},
   "outputs": [
    {
     "name": "stdout",
     "output_type": "stream",
     "text": [
      "1\n",
      "1\n",
      "2\n",
      "3\n",
      "5\n",
      "8\n",
      "13\n",
      "21\n",
      "34\n",
      "55\n",
      "89\n"
     ]
    }
   ],
   "source": [
    "a, b = 0, 1\n",
    "while b < 100:\n",
    "    print(b)\n",
    "    a, b = b, a + b"
   ]
  },
  {
   "cell_type": "markdown",
   "metadata": {},
   "source": [
    "###  Multiplication Table"
   ]
  },
  {
   "cell_type": "code",
   "execution_count": 45,
   "metadata": {},
   "outputs": [
    {
     "name": "stdout",
     "output_type": "stream",
     "text": [
      "--------------------------------------------------\n",
      "    1     2     3     4     5     6     7     8     9    10 \n",
      "    2     4     6     8    10    12    14    16    18    20 \n",
      "    3     6     9    12    15    18    21    24    27    30 \n",
      "    4     8    12    16    20    24    28    32    36    40 \n",
      "    5    10    15    20    25    30    35    40    45    50 \n",
      "    6    12    18    24    30    36    42    48    54    60 \n",
      "    7    14    21    28    35    42    49    56    63    70 \n",
      "    8    16    24    32    40    48    56    64    72    80 \n",
      "    9    18    27    36    45    54    63    72    81    90 \n",
      "   10    20    30    40    50    60    70    80    90   100 \n",
      "--------------------------------------------------\n"
     ]
    }
   ],
   "source": [
    "i = 1\n",
    "print(\"-\" * 50)\n",
    "while i < 11:\n",
    "        n = 1\n",
    "        while n <= 10:\n",
    "            print(\" %4d\" % (i*n), end=' ') \n",
    "            n += 1\n",
    "        print()\n",
    "        i += 1\n",
    "print(\"-\" * 50)"
   ]
  },
  {
   "cell_type": "markdown",
   "metadata": {},
   "source": [
    "Meanwhile, ``for-loops`` have the following structure:\n",
    "\n",
    "    for <loop variable name> in <iterable>:\n",
    "         <indented block of code>\n",
    "         \n",
    "The loop will continue to execute as long as there are more iterations left in the iterable.  Upon each iteration, the value of that iteration is assigned to the loop variable."
   ]
  },
  {
   "cell_type": "code",
   "execution_count": 46,
   "metadata": {},
   "outputs": [
    {
     "name": "stdout",
     "output_type": "stream",
     "text": [
      "0\n",
      "1\n",
      "2\n",
      "3\n",
      "4\n",
      "5\n",
      "6\n",
      "7\n",
      "8\n",
      "9\n"
     ]
    }
   ],
   "source": [
    "for i in range(N):\n",
    "    print (i)"
   ]
  },
  {
   "cell_type": "markdown",
   "metadata": {},
   "source": [
    "To solve our previous problem as follows:"
   ]
  },
  {
   "cell_type": "markdown",
   "metadata": {},
   "source": [
    "**While version**"
   ]
  },
  {
   "cell_type": "code",
   "execution_count": 47,
   "metadata": {},
   "outputs": [
    {
     "name": "stdout",
     "output_type": "stream",
     "text": [
      "input value 1 : \n"
     ]
    },
    {
     "ename": "ValueError",
     "evalue": "could not convert string to float: ",
     "output_type": "error",
     "traceback": [
      "\u001b[0;31m---------------------------------------------------------------------------\u001b[0m",
      "\u001b[0;31mValueError\u001b[0m                                Traceback (most recent call last)",
      "\u001b[0;32m<ipython-input-47-b65f5f15e256>\u001b[0m in \u001b[0;36m<module>\u001b[0;34m()\u001b[0m\n\u001b[1;32m      4\u001b[0m \u001b[0;32mwhile\u001b[0m \u001b[0mi\u001b[0m\u001b[0;34m<\u001b[0m\u001b[0mn\u001b[0m\u001b[0;34m:\u001b[0m\u001b[0;34m\u001b[0m\u001b[0;34m\u001b[0m\u001b[0m\n\u001b[1;32m      5\u001b[0m     \u001b[0mnumber\u001b[0m\u001b[0;34m=\u001b[0m\u001b[0minput\u001b[0m\u001b[0;34m(\u001b[0m\u001b[0;34m\"input value \"\u001b[0m\u001b[0;34m+\u001b[0m\u001b[0mstr\u001b[0m\u001b[0;34m(\u001b[0m\u001b[0mi\u001b[0m\u001b[0;34m+\u001b[0m\u001b[0;36m1\u001b[0m\u001b[0;34m)\u001b[0m\u001b[0;34m+\u001b[0m\u001b[0;34m\" : \"\u001b[0m\u001b[0;34m)\u001b[0m\u001b[0;34m\u001b[0m\u001b[0;34m\u001b[0m\u001b[0m\n\u001b[0;32m----> 6\u001b[0;31m     \u001b[0mvar_mean\u001b[0m\u001b[0;34m=\u001b[0m\u001b[0mvar_mean\u001b[0m\u001b[0;34m+\u001b[0m\u001b[0mfloat\u001b[0m\u001b[0;34m(\u001b[0m\u001b[0mnumber\u001b[0m\u001b[0;34m)\u001b[0m\u001b[0;34m\u001b[0m\u001b[0;34m\u001b[0m\u001b[0m\n\u001b[0m\u001b[1;32m      7\u001b[0m     \u001b[0mi\u001b[0m\u001b[0;34m+=\u001b[0m\u001b[0;36m1\u001b[0m\u001b[0;34m\u001b[0m\u001b[0;34m\u001b[0m\u001b[0m\n\u001b[1;32m      8\u001b[0m \u001b[0mvar_mean\u001b[0m\u001b[0;34m=\u001b[0m\u001b[0mvar_mean\u001b[0m\u001b[0;34m/\u001b[0m\u001b[0mn\u001b[0m\u001b[0;34m\u001b[0m\u001b[0;34m\u001b[0m\u001b[0m\n",
      "\u001b[0;31mValueError\u001b[0m: could not convert string to float: "
     ]
    }
   ],
   "source": [
    "var_mean=0 #mean variable\n",
    "n=10 #total number of real numbers\n",
    "i=0\n",
    "while i<n:\n",
    "    number=input(\"input value \"+str(i+1)+\" : \")\n",
    "    var_mean=var_mean+float(number)\n",
    "    i+=1\n",
    "var_mean=var_mean/n\n",
    "print (\"the mean is: \", var_mean)"
   ]
  },
  {
   "cell_type": "markdown",
   "metadata": {},
   "source": [
    "Meanwhile, for-loops have the following structure:\n",
    "\n",
    "    for <loop variable name> in <iterable>:\n",
    "         <indented block of code>\n",
    "         \n",
    "The loop will continue to execute as long as there are more iterations left in the iterable.  Upon each iteration, the value of that iteration is assigned to the loop variable."
   ]
  },
  {
   "cell_type": "markdown",
   "metadata": {},
   "source": [
    "**For** version"
   ]
  },
  {
   "cell_type": "code",
   "execution_count": 48,
   "metadata": {},
   "outputs": [
    {
     "name": "stdout",
     "output_type": "stream",
     "text": [
      "input value 1 : \n"
     ]
    },
    {
     "ename": "ValueError",
     "evalue": "could not convert string to float: ",
     "output_type": "error",
     "traceback": [
      "\u001b[0;31m---------------------------------------------------------------------------\u001b[0m",
      "\u001b[0;31mValueError\u001b[0m                                Traceback (most recent call last)",
      "\u001b[0;32m<ipython-input-48-08edb16c2cc5>\u001b[0m in \u001b[0;36m<module>\u001b[0;34m()\u001b[0m\n\u001b[1;32m      3\u001b[0m \u001b[0;32mfor\u001b[0m \u001b[0mi\u001b[0m \u001b[0;32min\u001b[0m \u001b[0mrange\u001b[0m\u001b[0;34m(\u001b[0m\u001b[0mn\u001b[0m\u001b[0;34m)\u001b[0m\u001b[0;34m:\u001b[0m\u001b[0;34m\u001b[0m\u001b[0;34m\u001b[0m\u001b[0m\n\u001b[1;32m      4\u001b[0m     \u001b[0mnumber\u001b[0m\u001b[0;34m=\u001b[0m\u001b[0minput\u001b[0m\u001b[0;34m(\u001b[0m\u001b[0;34m\"input value \"\u001b[0m\u001b[0;34m+\u001b[0m\u001b[0mstr\u001b[0m\u001b[0;34m(\u001b[0m\u001b[0mi\u001b[0m\u001b[0;34m+\u001b[0m\u001b[0;36m1\u001b[0m\u001b[0;34m)\u001b[0m\u001b[0;34m+\u001b[0m\u001b[0;34m\" : \"\u001b[0m\u001b[0;34m)\u001b[0m\u001b[0;34m\u001b[0m\u001b[0;34m\u001b[0m\u001b[0m\n\u001b[0;32m----> 5\u001b[0;31m     \u001b[0mvar_mean\u001b[0m\u001b[0;34m=\u001b[0m\u001b[0mvar_mean\u001b[0m\u001b[0;34m+\u001b[0m\u001b[0mfloat\u001b[0m\u001b[0;34m(\u001b[0m\u001b[0mnumber\u001b[0m\u001b[0;34m)\u001b[0m\u001b[0;34m\u001b[0m\u001b[0;34m\u001b[0m\u001b[0m\n\u001b[0m\u001b[1;32m      6\u001b[0m \u001b[0mvar_mean\u001b[0m\u001b[0;34m=\u001b[0m\u001b[0mvar_mean\u001b[0m\u001b[0;34m/\u001b[0m\u001b[0mn\u001b[0m\u001b[0;34m\u001b[0m\u001b[0;34m\u001b[0m\u001b[0m\n\u001b[1;32m      7\u001b[0m \u001b[0mprint\u001b[0m \u001b[0;34m(\u001b[0m\u001b[0;34m\"the mean is: \"\u001b[0m\u001b[0;34m,\u001b[0m \u001b[0mvar_mean\u001b[0m\u001b[0;34m)\u001b[0m\u001b[0;34m\u001b[0m\u001b[0;34m\u001b[0m\u001b[0m\n",
      "\u001b[0;31mValueError\u001b[0m: could not convert string to float: "
     ]
    }
   ],
   "source": [
    "var_mean=0 #mean variable\n",
    "n=10 #total number of real numbers\n",
    "for i in range(n):\n",
    "    number=input(\"input value \"+str(i+1)+\" : \")\n",
    "    var_mean=var_mean+float(number)\n",
    "var_mean=var_mean/n\n",
    "print (\"the mean is: \", var_mean)"
   ]
  },
  {
   "cell_type": "markdown",
   "metadata": {},
   "source": [
    "## Short Exercise\n",
    "Using a loop, calculate the factorial of 42 (the product of all integers up to and including 42)."
   ]
  },
  {
   "cell_type": "code",
   "execution_count": null,
   "metadata": {},
   "outputs": [],
   "source": []
  },
  {
   "cell_type": "markdown",
   "metadata": {},
   "source": [
    "* * * *\n",
    "## Indentation\n",
    "\n",
    "It is important to keep a good understanding of how indentation works in Python to maintain the structure and order of your code. We will touch on this topic again when we start building out functions!\n",
    "* * * *"
   ]
  },
  {
   "cell_type": "markdown",
   "metadata": {},
   "source": [
    "## break, continue and pass\n",
    "\n",
    "Break terminates the loop statement and transfers execution to the statement immediately following the loop. A break statement cuts off a loop from within an inner loop. It helps\n",
    "avoid infinite loops by cutting off loops when they're clearly going\n",
    "nowhere.\n",
    "\n",
    "Something you might want to do instead of breaking is to continue to the\n",
    "next iteration of a loop, giving up on the current one. Continue statement causes the loop to skip the remainder of its body and immediately retest its condition prior to reiterating."
   ]
  },
  {
   "cell_type": "markdown",
   "metadata": {},
   "source": [
    "### Break\n",
    "\n",
    "When working with loops, sometimes you may want to exit the entire loop\n",
    "when a certain condition is met. To do that, we use the break keyword.\n",
    "Run the following program to see how it works."
   ]
  },
  {
   "cell_type": "code",
   "execution_count": 49,
   "metadata": {},
   "outputs": [
    {
     "name": "stdout",
     "output_type": "stream",
     "text": [
      "i =  0 , j =  2\n",
      "i =  1 , j =  4\n",
      "i =  2 , j =  6\n"
     ]
    }
   ],
   "source": [
    "j = 0\n",
    "for i in range(5): \n",
    "    j = j + 2\n",
    "    print ('i = ', i, ', j = ', j) \n",
    "    if j == 6: \n",
    "        break"
   ]
  },
  {
   "cell_type": "markdown",
   "metadata": {},
   "source": [
    "Without the ``break`` keyword, the program should loop from i = 0 to i = 4\n",
    "because we used the function range(5). However with the break\n",
    "keyword, the program ends prematurely at i = 2. This is because when i =\n",
    "2, j reaches the value of 6 and the break keyword causes the loop to\n",
    "end."
   ]
  },
  {
   "cell_type": "markdown",
   "metadata": {},
   "source": [
    "###  Continue\n",
    "\n",
    "Just like\n",
    "``break``\n",
    "we have another statement,\n",
    "``continue``\n",
    ", which skips the execution of the code after itself and goes back\n",
    "to the start of the loop.  That means it will help you to skip a part of the loop.  In the below example we will ask the\n",
    "user to input an integer, if the input is negative then we will ask again, if positive then we will square the number. To\n",
    "get out of the infinite loop user must input()\n",
    "\n"
   ]
  },
  {
   "cell_type": "code",
   "execution_count": null,
   "metadata": {},
   "outputs": [],
   "source": [
    "while True :\n",
    "    n = int(input(\"Please enter an Integer: \"))\n",
    "    if n < 0:\n",
    "        continue # this will take the execution back to the starting of the loop\n",
    "    elif n == 0:\n",
    "        break\n",
    "    print(\"Square is \", n**2)\n",
    "print(\"Goodbye\")"
   ]
  },
  {
   "cell_type": "markdown",
   "metadata": {},
   "source": [
    "### Pass\n",
    "\n",
    "The ``pass`` statement is used when a statement is required syntactically but you do not want any command or code to execute. The pass statement is a null operation; nothing happens when it executes."
   ]
  },
  {
   "cell_type": "code",
   "execution_count": null,
   "metadata": {},
   "outputs": [],
   "source": [
    "var_mean=0 #mean variable\n",
    "n=10 #total number of real numbers\n",
    "for i in range(n):\n",
    "    if (i+1)==2:\n",
    "        pass\n",
    "    number=input(\"input value \"+str(i+1)+\" : \")\n",
    "    var_mean=var_mean+float(number) \n",
    "var_mean=var_mean/n\n",
    "print (\"the mean is: \", var_mean)"
   ]
  },
  {
   "cell_type": "markdown",
   "metadata": {},
   "source": [
    "### Other examples"
   ]
  },
  {
   "cell_type": "code",
   "execution_count": null,
   "metadata": {},
   "outputs": [],
   "source": [
    "reasonable = 10\n",
    "for n in range(1,2000):\n",
    "    if n == reasonable :\n",
    "        break\n",
    "    print (n)"
   ]
  },
  {
   "cell_type": "code",
   "execution_count": null,
   "metadata": {},
   "outputs": [],
   "source": [
    "var_mean=0 #mean variable\n",
    "n=10 #total number of real numbers\n",
    "i=0\n",
    "while i<n:\n",
    "    if (i+1)==5:\n",
    "        break\n",
    "    number=input(\"input value \"+str(i+1)+\" : \")\n",
    "    var_mean=var_mean+float(number)\n",
    "    i+=1    \n",
    "var_mean=var_mean/n\n",
    "print (\"the mean is: \", var_mean)"
   ]
  },
  {
   "cell_type": "code",
   "execution_count": null,
   "metadata": {},
   "outputs": [],
   "source": [
    "reasonable = 10\n",
    "for n in range(1,20):\n",
    "    if n == reasonable :\n",
    "        continue\n",
    "    print (n)"
   ]
  },
  {
   "cell_type": "code",
   "execution_count": null,
   "metadata": {},
   "outputs": [],
   "source": [
    "var_mean=0 #mean variable\n",
    "n=10 #total number of real numbers\n",
    "for i in range(n):\n",
    "    if (i+1)==2:\n",
    "        continue\n",
    "    number=input(\"input value \"+str(i+1)+\" : \")\n",
    "    var_mean=var_mean+float(number )\n",
    "var_mean=var_mean/n\n",
    "print (\"the mean is: \", var_mean)"
   ]
  },
  {
   "cell_type": "markdown",
   "metadata": {},
   "source": [
    "#### We can have nested loops: find for loop in while loop, or while loop in an other while loop, or for loop in an other for loop. Brief, any loop can contain other loops inside it. "
   ]
  }
 ],
 "metadata": {
  "anaconda-cloud": {},
  "kernelspec": {
   "display_name": "Python 3",
   "language": "python",
   "name": "python3"
  },
  "language_info": {
   "codemirror_mode": {
    "name": "ipython",
    "version": 3
   },
   "file_extension": ".py",
   "mimetype": "text/x-python",
   "name": "python",
   "nbconvert_exporter": "python",
   "pygments_lexer": "ipython3",
   "version": "3.7.3"
  }
 },
 "nbformat": 4,
 "nbformat_minor": 1
}
