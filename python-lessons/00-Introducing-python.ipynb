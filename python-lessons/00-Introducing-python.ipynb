{
 "cells": [
  {
   "cell_type": "markdown",
   "metadata": {},
   "source": [
    "# Introducing Python\n",
    "\n",
    "Based on Lecture Materials presented at the African Institute for Mathematical Sciences, South Africa (AIMS-ZA) by Yaé Ulrich Gaba and Jeff Sanders in January 2016 and Mohau Mateyisi in January 2015.\n",
    "\n",
    "**Instructor: [Yaé Ulrich Gaba](https://github.com/gabayae), [Institut de Mathématiques et de Sciences Physiques](http://imsp-benin.com/home/)**"
   ]
  },
  {
   "cell_type": "markdown",
   "metadata": {},
   "source": [
    "<font color=\"blue\">  Welcome to the exciting world of programming. Before we dive into the nuts and bolts of Python programming, let us first answer a few questions</font>."
   ]
  },
  {
   "cell_type": "markdown",
   "metadata": {},
   "source": [
    "**What is Python?**\n",
    "\n",
    "Python is a widely used high-level programming language created by\n",
    "Guido van Rossum in the late 1980s. The language places strong\n",
    "emphasis on \n",
    "\n",
    "       * code readability and\n",
    "       * simplicity, \n",
    "making it possible for programmers to develop applications rapidly.\n",
    "\n",
    "Like all high level programming languages, Python code resembles the\n",
    "English language which computers are unable to understand. Codes that\n",
    "we write in Python have to be interpreted by a special program known as\n",
    "the Python interpreter"
   ]
  },
  {
   "cell_type": "markdown",
   "metadata": {},
   "source": [
    "**Why Learn Python?**\n",
    "\n",
    "There are a large number of high level programming languages available,\n",
    "such as C, C++, and Java. The good news is all high level programming\n",
    "languages are very similar to one another. What differs is mainly the\n",
    "syntax, the libraries available and the way we access those libraries.\n",
    "If you are new to programming, Python is a great place to start. One of\n",
    "the key features of Python is its simplicity, making it the ideal language\n",
    "for beginners to learn. Most programs in Python require considerably\n",
    "fewer lines of code to perform the same task compared to other\n",
    "languages such as C. This leads to fewer programming errors and\n",
    "reduces the development time needed.\n",
    "\n",
    "Python can be used for a large variety of tasks,\n",
    "such as for desktop applications, database applications, network\n",
    "programming, game programming and even mobile development. Last\n",
    "but not least, Python is a cross platform language, which means that\n",
    "code written for one operating system, such as Windows, will work well\n",
    "on Mac OS or Linux without making any changes to the Python code.\n"
   ]
  },
  {
   "cell_type": "markdown",
   "metadata": {},
   "source": [
    "**Convinced that Python is THE language to learn? Let’s get started...**\n",
    "\n",
    "  The course is meant to be interactive and you are welcome to ask questions any time during the lecture."
   ]
  },
  {
   "cell_type": "markdown",
   "metadata": {},
   "source": [
    "### The objectives of this course are those to enable learners to:\n",
    "\n",
    "* master programming as a powerful tool a scientist must;\n",
    "* use wisely programming concepts;\n",
    "* have an innovative spirit, easy understanding of analysing and optimizing codings;\n",
    "* have introduction to object-oriented programming concepts with Python;\n",
    "* develop the speed and efficiency in programming;\n",
    "* devellop spirit of sharing codes and controling program versions with Git;\n",
    "* develop software that solve daily life-based problems."
   ]
  },
  {
   "cell_type": "markdown",
   "metadata": {
    "collapsed": true
   },
   "source": [
    "### Python environments"
   ]
  },
  {
   "cell_type": "markdown",
   "metadata": {},
   "source": [
    "Two main ways that you can run python programs:\n",
    "\n",
    "* you can create executable scripts.\n",
    "* you can run Jupyter notebook.\n",
    "\n"
   ]
  },
  {
   "cell_type": "markdown",
   "metadata": {},
   "source": [
    "Jupyter is an alternative to the built-in Python interpreter with some nice features.\n",
    "Jupyter notebook gives you interactive access to the python interpreter from within a browser window, and it allows you to save your commands as a <font color=\"red\">\"notebook\" </font> .\n"
   ]
  },
  {
   "cell_type": "markdown",
   "metadata": {},
   "source": [
    "Let's give the built-in interpreter a spin just this once.  Open a **Terminal** window, which starts your default shell.  \n",
    "\n",
    "Type    <font color=\"CornflowerBlue \"> python </font>\n",
    "\n",
    "\n",
    "And you should see python start up.  Type   <font color=\"CornflowerBlue \"> print (\"This is ging to be amazing\") </font> \n",
    "\n",
    "\n",
    "Escape from python with     <font color=\"CornflowerBlue \"> \"quit()\" </font>"
   ]
  },
  {
   "cell_type": "markdown",
   "metadata": {},
   "source": [
    "### Navigating in Jupyter notebook"
   ]
  },
  {
   "cell_type": "markdown",
   "metadata": {},
   "source": [
    "Lets run our first python program in the input cell below:\n",
    "\n",
    "* To feed our lines of code to the python interpreter one at a time when you press:  \n",
    "\n",
    "\n",
    "#### <font color=\"CornflowerBlue \">Shift-ENTER or Ctrl-ENTER  </font> \n",
    "\n",
    "\n",
    "\n",
    "* To get space to enter  multi-line commands on a cell you hit:\n",
    "#### <font color=\"CornflowerBlue \"> ENTER  </font> \n"
   ]
  },
  {
   "cell_type": "code",
   "execution_count": null,
   "metadata": {},
   "outputs": [],
   "source": [
    "print (\"hello world\")"
   ]
  },
  {
   "cell_type": "code",
   "execution_count": null,
   "metadata": {},
   "outputs": [],
   "source": [
    "print (\"Food is very nice\") #eat me"
   ]
  },
  {
   "cell_type": "code",
   "execution_count": null,
   "metadata": {},
   "outputs": [],
   "source": [
    "print (\"food is very nice\") eat me\n",
    "#you'll get a fairly harmless error message,because you didn't put your comment after a hash."
   ]
  },
  {
   "cell_type": "markdown",
   "metadata": {},
   "source": [
    "### Executing code in files"
   ]
  },
  {
   "cell_type": "code",
   "execution_count": null,
   "metadata": {},
   "outputs": [],
   "source": [
    "%run hello.py"
   ]
  },
  {
   "cell_type": "markdown",
   "metadata": {},
   "source": [
    "* To move the cursor to a different cells in the notebook push the <font color=\"red \"> up and down arrows </font>\n",
    "\n"
   ]
  },
  {
   "cell_type": "code",
   "execution_count": null,
   "metadata": {},
   "outputs": [],
   "source": [
    "i = 10\n",
    "j = 0.0\n",
    "c = 1\n",
    "\n",
    "print (i)\n",
    "print (j)\n",
    "print (c)"
   ]
  },
  {
   "cell_type": "code",
   "execution_count": null,
   "metadata": {},
   "outputs": [],
   "source": [
    "print (i,j,c)"
   ]
  },
  {
   "cell_type": "code",
   "execution_count": null,
   "metadata": {},
   "outputs": [],
   "source": [
    "c = i + j\n",
    "print (c)"
   ]
  },
  {
   "cell_type": "markdown",
   "metadata": {},
   "source": [
    "Lets see if python knows more than what we have told it about the variable 'c'. Lets find about the types of all variable we gave it."
   ]
  },
  {
   "cell_type": "code",
   "execution_count": null,
   "metadata": {},
   "outputs": [],
   "source": [
    "type(i), type(j), type(c)"
   ]
  },
  {
   "cell_type": "markdown",
   "metadata": {},
   "source": [
    "### Getting Help\n"
   ]
  },
  {
   "cell_type": "markdown",
   "metadata": {},
   "source": [
    "\n",
    "IPython has some nice help features. Let's say we want to know more about the integer data type. \n",
    "There are at least two ways to do this task:\n",
    "\n",
    "* you can get python to display a scrolling text using one of the two commands"
   ]
  },
  {
   "cell_type": "code",
   "execution_count": null,
   "metadata": {},
   "outputs": [],
   "source": [
    "help(int)"
   ]
  },
  {
   "cell_type": "code",
   "execution_count": null,
   "metadata": {},
   "outputs": [],
   "source": [
    "int?"
   ]
  },
  {
   "cell_type": "markdown",
   "metadata": {},
   "source": [
    "Note that you can minimise the magic pane when it gets in your way by clicking on the left of it. If you push the click putton\n",
    "on your mouse twise you can minimise pane further."
   ]
  },
  {
   "cell_type": "markdown",
   "metadata": {},
   "source": [
    "If you wanted to see all the <font color=\"red\"> built-in commands </font> available for something, use the *dir* command. Check out all of the methods of the object \"Hello world\", which are shared by all objects of the str type."
   ]
  },
  {
   "cell_type": "code",
   "execution_count": null,
   "metadata": {},
   "outputs": [],
   "source": [
    "dir(\"Hello August Intake Senegal 2019\")"
   ]
  },
  {
   "cell_type": "markdown",
   "metadata": {},
   "source": [
    "There's a method that looks important -- swapcase. Let's see what it does:"
   ]
  },
  {
   "cell_type": "code",
   "execution_count": null,
   "metadata": {},
   "outputs": [],
   "source": [
    "\"Hello August Intake Senegal 20119\".swapcase()"
   ]
  },
  {
   "cell_type": "markdown",
   "metadata": {},
   "source": [
    "### Clearing IPython"
   ]
  },
  {
   "cell_type": "markdown",
   "metadata": {},
   "source": [
    "To clear everything from IPython, use the %reset command."
   ]
  },
  {
   "cell_type": "code",
   "execution_count": null,
   "metadata": {},
   "outputs": [],
   "source": [
    "this_string = \"Tell me more about python please!\" \n",
    "print (this_string)"
   ]
  },
  {
   "cell_type": "code",
   "execution_count": null,
   "metadata": {},
   "outputs": [],
   "source": [
    "%reset"
   ]
  },
  {
   "cell_type": "code",
   "execution_count": null,
   "metadata": {},
   "outputs": [],
   "source": [
    "print (this_string)"
   ]
  },
  {
   "cell_type": "markdown",
   "metadata": {},
   "source": [
    " It is objecting that mystring is not defined, since we just reset it. "
   ]
  },
  {
   "cell_type": "markdown",
   "metadata": {},
   "source": [
    "## Variables and primitive data types\n"
   ]
  },
  {
   "cell_type": "markdown",
   "metadata": {},
   "source": [
    "All programming languages have variables, and python is no different.\n",
    "\n",
    "A ``variable`` is just a reserved memory location to store values. In other words, a variable in a python program gives data to the computer for processing. \n",
    "\n",
    "To create a variable, just name it and set it with the equals sign.\n",
    "One important caveat: variable names can only contain letters, numbers, and the underscore character.\n",
    "\n",
    "\n",
    "\n",
    "Variables allowed to reserve memory locations for storing values. This means that when you create a variable you reserve some space in memory. Based on the data type of a variable, the interpreter allocates memory and decides what can be stored in the reserved memory. A variable has a name and value. Its name must be unique."
   ]
  },
  {
   "cell_type": "markdown",
   "metadata": {},
   "source": [
    "### Naming convention\n",
    "\n",
    "A variable name in Python can only contain letters (a - z, A - B), numbers\n",
    "or underscores ``(_)``. However, the first character cannot be a number.\n",
    "Hence, you can name your variables ``userName``, ``user_name`` or\n",
    "``userName2`` but not ``2userName``. \n",
    "\n",
    "\n",
    "In addition, there are some reserved words that you cannot use as a\n",
    "variable name because they already have preassigned meanings in\n",
    "Python. These reserved words include words like ``print``, ``input``, ``if``,\n",
    "``while`` etc. We’ll learn about each of them in subsequent chapters.\n",
    "\n",
    "\n",
    "Finally, variable names are case sensitive, i.e. ``username`` is not the same as\n",
    "``userName``."
   ]
  },
  {
   "cell_type": "markdown",
   "metadata": {},
   "source": [
    "### The Assignment Sign\n",
    "\n",
    "\n",
    "Note that the ``=`` sign in the statement ``userAge = 0`` has a different\n",
    "meaning from the ``=`` sign we learned in Mathematics. In programming, the ``=`` sign\n",
    "is known as an *assignment sign*. It means we are assigning the value on\n",
    "the right side of the ``= `` sign to the variable on the left."
   ]
  },
  {
   "cell_type": "markdown",
   "metadata": {},
   "source": [
    "I would like to make a difference in variables. There are two kinds of variables, a variable may have either primitive or complex data type. Either primitive or complex data type depends on data this variable contains.\n",
    "\n",
    "**Primitive types:**\n",
    "\n",
    "* int\n",
    "* float\n",
    "* bool\n",
    "\n",
    "\n",
    "\n",
    "**Complex types:**\n",
    "\n",
    "* tuple\n",
    "* set\n",
    "* list\n",
    "* dictionary\n",
    "* string\n",
    "\n",
    "In this lesson, we are concerned on Primitive types,\n",
    "\n",
    "Let's set a few variables:"
   ]
  },
  {
   "cell_type": "code",
   "execution_count": null,
   "metadata": {},
   "outputs": [],
   "source": [
    "AIMS_Senegal_Students = \"Regular and COOP intake groups 2019\" # Underscore\n",
    "\n",
    "StudentsAverageHigh = 1.5 # This is called CamelCase\n",
    "\n",
    "number_of_female = 20 # total number of female students \n",
    "\n",
    "number_of_male = 36 # total number of students in August intake\n",
    "\n"
   ]
  },
  {
   "cell_type": "code",
   "execution_count": null,
   "metadata": {},
   "outputs": [],
   "source": [
    "print (AIMS_Senegal_Students)"
   ]
  },
  {
   "cell_type": "code",
   "execution_count": null,
   "metadata": {},
   "outputs": [],
   "source": [
    "print (number_of_female, number_of_male)"
   ]
  },
  {
   "cell_type": "markdown",
   "metadata": {},
   "source": [
    "### Types and Dynamic Typing"
   ]
  },
  {
   "cell_type": "markdown",
   "metadata": {},
   "source": [
    "Python is a dynamically typed language (unlike, say, C++). This is important. To make this point more clear we should rationalise it in the context of programming within design space.\n",
    "\n",
    "Dynamic typing means that you don't have to declare the type of a variable when you define it; python just figures it out based on how you are setting the variable. Lets say you set a variable. Sometime later you can just change the type of data assigned to a variable and python is perfectly happy about that.\n",
    "\n",
    "I will let you think about this at the level of an assignment function specification."
   ]
  },
  {
   "cell_type": "code",
   "execution_count": null,
   "metadata": {},
   "outputs": [],
   "source": [
    "type(StudentsAverageHigh)"
   ]
  },
  {
   "cell_type": "code",
   "execution_count": null,
   "metadata": {},
   "outputs": [],
   "source": [
    "StudentsAverageHigh = \"4.7\""
   ]
  },
  {
   "cell_type": "code",
   "execution_count": null,
   "metadata": {},
   "outputs": [],
   "source": [
    "type(StudentsAverageHigh)"
   ]
  },
  {
   "cell_type": "code",
   "execution_count": null,
   "metadata": {},
   "outputs": [],
   "source": [
    "StudentsAverageHigh = 6.2"
   ]
  },
  {
   "cell_type": "code",
   "execution_count": null,
   "metadata": {},
   "outputs": [],
   "source": [
    "type(StudentsAverageHigh)"
   ]
  },
  {
   "cell_type": "markdown",
   "metadata": {},
   "source": [
    "### Coersion (Type Casting)\n"
   ]
  },
  {
   "cell_type": "markdown",
   "metadata": {},
   "source": [
    "How about converting certain types of data to other types? \"Coersing\" is just a fancy term for this simple procedure. Think of coersing numerical data to strings, for example. A fairly simple thing to do!"
   ]
  },
  {
   "cell_type": "code",
   "execution_count": null,
   "metadata": {},
   "outputs": [],
   "source": [
    "StudentsAverageHigh_string =str(StudentsAverageHigh)"
   ]
  },
  {
   "cell_type": "code",
   "execution_count": null,
   "metadata": {},
   "outputs": [],
   "source": [
    "type(StudentsAverageHigh_string)"
   ]
  },
  {
   "cell_type": "code",
   "execution_count": null,
   "metadata": {},
   "outputs": [],
   "source": [
    "number_of_female_string = \"12\"\n",
    "number_of_female = float(number_of_female_string)"
   ]
  },
  {
   "cell_type": "markdown",
   "metadata": {},
   "source": [
    "What would happen if you tried to coerce resistanceString to an int? What about coercing StudentsAverageHigh to an int? Consider the following:"
   ]
  },
  {
   "cell_type": "code",
   "execution_count": null,
   "metadata": {},
   "outputs": [],
   "source": [
    "StudentsAverageHigh = \"1.82 m \""
   ]
  },
  {
   "cell_type": "markdown",
   "metadata": {},
   "source": [
    "Do you think you can coerce that string to a numerical type?"
   ]
  },
  {
   "cell_type": "markdown",
   "metadata": {},
   "source": [
    "### Elementary Data Operations"
   ]
  },
  {
   "cell_type": "markdown",
   "metadata": {
    "collapsed": true
   },
   "source": [
    " Now we know about data types, let' do a bit of computing."
   ]
  },
  {
   "cell_type": "markdown",
   "metadata": {
    "collapsed": true
   },
   "source": [
    " Any operation between two numbers?"
   ]
  },
  {
   "cell_type": "code",
   "execution_count": 3,
   "metadata": {},
   "outputs": [],
   "source": [
    "a = 5\n",
    "\n",
    "b = 2.0"
   ]
  },
  {
   "cell_type": "code",
   "execution_count": null,
   "metadata": {},
   "outputs": [],
   "source": [
    "type(a), type(b)"
   ]
  },
  {
   "cell_type": "markdown",
   "metadata": {
    "collapsed": true
   },
   "source": [
    "You can do:\n",
    "\n",
    "\n",
    "* Addition `` + `` ;  \n",
    "* Subtraction: `` - `` ;  \n",
    "* Multiplication: ``*`` ;  Division: ``x/y``; \n",
    "\n",
    "* Floor Division: ``//`` (rounds down the answer to the nearest whole\n",
    "number)\n",
    "\n",
    "* Exponent: ``**`` or ``^``, ``x**y (x to the power of y)``. This can also be written as ``x^y``."
   ]
  },
  {
   "cell_type": "code",
   "execution_count": 4,
   "metadata": {},
   "outputs": [
    {
     "data": {
      "text/plain": [
       "7.0"
      ]
     },
     "execution_count": 4,
     "metadata": {},
     "output_type": "execute_result"
    }
   ],
   "source": [
    "c = a+b\n",
    "c"
   ]
  },
  {
   "cell_type": "code",
   "execution_count": null,
   "metadata": {},
   "outputs": [],
   "source": [
    "d = ((a-d)*c)^4"
   ]
  },
  {
   "cell_type": "markdown",
   "metadata": {},
   "source": [
    "# Boolean"
   ]
  },
  {
   "cell_type": "markdown",
   "metadata": {},
   "source": [
    "The set is {True, False} which we often abbreviate to {1,0}"
   ]
  },
  {
   "cell_type": "code",
   "execution_count": null,
   "metadata": {},
   "outputs": [],
   "source": [
    "type(True)"
   ]
  },
  {
   "cell_type": "markdown",
   "metadata": {},
   "source": [
    "Ask python to tell you about the operations by  typing:"
   ]
  },
  {
   "cell_type": "code",
   "execution_count": null,
   "metadata": {},
   "outputs": [],
   "source": [
    "help(bool)"
   ]
  },
  {
   "cell_type": "code",
   "execution_count": null,
   "metadata": {},
   "outputs": [],
   "source": [
    "### Relational Operators\n",
    " \n",
    "* ``<``    Is less than\n",
    "*  ``<=`` Is less than or equal to\n",
    "* ``==``  Is equal to\n",
    "* ``!=``  Is not equal t0"
   ]
  },
  {
   "cell_type": "code",
   "execution_count": null,
   "metadata": {},
   "outputs": [],
   "source": [
    "1 < 2 # Is 1 less than 2?"
   ]
  },
  {
   "cell_type": "code",
   "execution_count": null,
   "metadata": {},
   "outputs": [],
   "source": [
    "d >= c # Is d greater or equal to c?"
   ]
  },
  {
   "cell_type": "markdown",
   "metadata": {},
   "source": [
    "###  Logical Operators\n",
    "\n",
    "To do logical ``AND`` , ``OR`` we use\n",
    "**and**\n",
    ",**or** keywords."
   ]
  },
  {
   "cell_type": "markdown",
   "metadata": {},
   "source": [
    " ## Multiple assignments in a single line"
   ]
  },
  {
   "cell_type": "code",
   "execution_count": 1,
   "metadata": {},
   "outputs": [],
   "source": [
    "a , b = 45, 54"
   ]
  },
  {
   "cell_type": "code",
   "execution_count": 2,
   "metadata": {},
   "outputs": [
    {
     "name": "stdout",
     "output_type": "stream",
     "text": [
      "45 54\n"
     ]
    }
   ],
   "source": [
    "print(a,b)"
   ]
  },
  {
   "cell_type": "code",
   "execution_count": null,
   "metadata": {},
   "outputs": [],
   "source": [
    "e = 9\n",
    "f = 12\n",
    "g = 3\n",
    "x = e - f / 3 + g\n",
    "*\n",
    "2 - 1\n",
    "y = e - f / (3 + g)*(2 - 1)\n",
    "z = e - (f / (3 + g)*2) - 1\n",
    "print(\"X = \", x)\n",
    "print(\"Y = \", y)\n",
    "print(\"Z = \", z)"
   ]
  },
  {
   "cell_type": "markdown",
   "metadata": {},
   "source": [
    "### Shorthand Operator"
   ]
  },
  {
   "cell_type": "code",
   "execution_count": null,
   "metadata": {},
   "outputs": [],
   "source": [
    "*x op = expression*\n",
    "is the syntax for **shorthand operators**.  It will be evaluated like\n",
    "``x = x op expression``. Few examples\n",
    "are"
   ]
  },
  {
   "cell_type": "code",
   "execution_count": 1,
   "metadata": {},
   "outputs": [
    {
     "data": {
      "text/plain": [
       "25"
      ]
     },
     "execution_count": 1,
     "metadata": {},
     "output_type": "execute_result"
    }
   ],
   "source": [
    "a = 12\n",
    "\n",
    "a += 13\n",
    "\n",
    "a\n"
   ]
  },
  {
   "cell_type": "code",
   "execution_count": 2,
   "metadata": {},
   "outputs": [
    {
     "data": {
      "text/plain": [
       "8.333333333333334"
      ]
     },
     "execution_count": 2,
     "metadata": {},
     "output_type": "execute_result"
    }
   ],
   "source": [
    "\n",
    "a /= 3\n",
    "\n",
    "a\n",
    "\n",
    "\n"
   ]
  },
  {
   "cell_type": "code",
   "execution_count": 3,
   "metadata": {},
   "outputs": [
    {
     "data": {
      "text/plain": [
       "840.3333333333334"
      ]
     },
     "execution_count": 3,
     "metadata": {},
     "output_type": "execute_result"
    }
   ],
   "source": [
    "a += (26* 32)\n",
    "\n",
    "a\n"
   ]
  },
  {
   "cell_type": "markdown",
   "metadata": {},
   "source": [
    "## Bonus: The canonical way to swap two variables in Python"
   ]
  },
  {
   "cell_type": "code",
   "execution_count": null,
   "metadata": {},
   "outputs": [],
   "source": [
    "a =4\n",
    "b = 5\n",
    "a, b = b, a"
   ]
  },
  {
   "cell_type": "markdown",
   "metadata": {},
   "source": [
    "Repeat the above exercise by assuming that a and b are of bollean type."
   ]
  },
  {
   "cell_type": "markdown",
   "metadata": {
    "collapsed": true
   },
   "source": [
    "### Creating a Comment\n",
    "\n",
    "Comments starts with a ``#``, and Python will ignore them:"
   ]
  },
  {
   "cell_type": "code",
   "execution_count": null,
   "metadata": {},
   "outputs": [],
   "source": [
    "#print(\"Hello, World!\")\n",
    "print(\"Cheers, Mate!\")"
   ]
  },
  {
   "cell_type": "code",
   "execution_count": null,
   "metadata": {},
   "outputs": [],
   "source": [
    "### Multi Line Comments\n",
    "\n",
    "Python does not really have a syntax for multi line comments.\n",
    "\n",
    "To add a multiline comment you could insert a # for each line:"
   ]
  },
  {
   "cell_type": "code",
   "execution_count": null,
   "metadata": {},
   "outputs": [],
   "source": [
    "#This is a comment\n",
    "#written in\n",
    "#more than just one line\n",
    "print(\"Hello, World!\")"
   ]
  },
  {
   "cell_type": "markdown",
   "metadata": {},
   "source": [
    "Or, not quite as intended, you can use a <font color=\"red\">\"multiline string\" </font>.\n",
    "Since Python will ignore string literals that are not assigned to a variable, you can add a multiline string (triple quotes) in your code, and place you comment inside it:"
   ]
  },
  {
   "cell_type": "code",
   "execution_count": null,
   "metadata": {},
   "outputs": [],
   "source": [
    "\"\"\"\n",
    "This is a comment\n",
    "written in\n",
    "more than just one line\n",
    "\"\"\"\n",
    "print(\"Hello, World!\") "
   ]
  },
  {
   "cell_type": "markdown",
   "metadata": {},
   "source": [
    "You can find more on comments in Python [here](https://realpython.com/python-comments-guide/#avoid-wet-comments)."
   ]
  },
  {
   "cell_type": "markdown",
   "metadata": {},
   "source": [
    "## Reading input from the Keyboard\n",
    "\n",
    "Generally the real life Python codes do not need to read input from the keyboard. In Python we use ``input`` function to\n",
    "do input. ``input(“String to show”)``, this will return a string as output."
   ]
  },
  {
   "cell_type": "code",
   "execution_count": null,
   "metadata": {},
   "outputs": [],
   "source": [
    "number = input(\"Enter an integer: \")\n",
    "print(\"-----------------------------------------------------------------------\")\n",
    "print(\"The number you entered is\", number, 'and is of type', type(number))"
   ]
  },
  {
   "cell_type": "markdown",
   "metadata": {},
   "source": [
    "**Daily Routine**\n",
    "\n",
    "                  $ cd  /path/to/Desktop/InPy\n",
    " \n",
    "                  $ git pull "
   ]
  },
  {
   "cell_type": "markdown",
   "metadata": {},
   "source": [
    "Here is the reference material.\n",
    "\n",
    "\n",
    "\n",
    "* [Dive into Python](http://www.diveintopython.net/toc/index.html)\n",
    "\n",
    "* [Software Carpentry's Python Lectures](http://software-carpentry.org/4_0/python/)\n",
    "\n",
    "* [IPython: A System for Interactive Scientific Computing](http://dx.doi.org/10.1109/MCSE.2007.53)\n",
    "\n",
    "* [How to Think Like a Computer Scientist](http://www.greenteapress.com/thinkpython/thinkpython.html)"
   ]
  },
  {
   "cell_type": "code",
   "execution_count": null,
   "metadata": {},
   "outputs": [],
   "source": []
  }
 ],
 "metadata": {
  "anaconda-cloud": {},
  "kernelspec": {
   "display_name": "Python 3",
   "language": "python",
   "name": "python3"
  },
  "language_info": {
   "codemirror_mode": {
    "name": "ipython",
    "version": 3
   },
   "file_extension": ".py",
   "mimetype": "text/x-python",
   "name": "python",
   "nbconvert_exporter": "python",
   "pygments_lexer": "ipython3",
   "version": "3.7.3"
  }
 },
 "nbformat": 4,
 "nbformat_minor": 1
}
